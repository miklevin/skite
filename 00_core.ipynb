{
 "cells": [
  {
   "cell_type": "code",
   "execution_count": null,
   "id": "5581a6e4-9b75-48ab-81c2-31d34b539004",
   "metadata": {},
   "outputs": [],
   "source": [
    "# default_exp core\n",
    "%load_ext lab_black"
   ]
  },
  {
   "cell_type": "code",
   "execution_count": null,
   "id": "8bab425a-742a-4289-b8c7-41b6ea6c1496",
   "metadata": {},
   "outputs": [],
   "source": [
    "# hide\n",
    "from nbdev.showdoc import *"
   ]
  },
  {
   "cell_type": "code",
   "execution_count": null,
   "id": "8435cdd0-b6a7-4710-a99d-a57599fb4bca",
   "metadata": {},
   "outputs": [],
   "source": [
    "# export\n",
    "\n",
    "import argparse\n",
    "import pandas as pd\n",
    "from pathlib import Path\n",
    "\n",
    "if hasattr(__builtins__, \"__IPYTHON__\") or __name__ != \"__main__\":\n",
    "    file = \"sites.csv\"\n",
    "else:\n",
    "    aparser = argparse.ArgumentParser()\n",
    "    add_arg = aparser.add_argument\n",
    "    add_arg(\"-f\", \"--file\", required=True)\n",
    "    args = aparser.parse_args()\n",
    "    file = args.file\n",
    "\n",
    "file_obj = Path(file)\n",
    "df = pd.read_csv(file_obj, delimiter=\"|\")\n",
    "df = df.applymap(lambda x: x.strip())\n",
    "df.columns = [x.strip() for x in df.columns]"
   ]
  },
  {
   "cell_type": "code",
   "execution_count": null,
   "id": "cffe4511-2525-4a8a-baf0-17c6405b17b3",
   "metadata": {},
   "outputs": [
    {
     "name": "stdout",
     "output_type": "stream",
     "text": [
      "{'site': 'GuerillaTech.com', 'title': 'Guerilla Tech', 'gaid': 'G-N4RYB5DCV4', 'tagline': 'Low Tech Liability, High Return'}\n",
      "{'site': 'Levinux.com', 'title': 'Levinux', 'gaid': 'G-0H19QDRNTL', 'tagline': 'A Micro Linux Distribution for Education'}\n",
      "{'site': 'LinuxPythonvimgit.com', 'title': 'Linux, Python, vim & git', 'gaid': 'G-ZNMVJFLRD2', 'tagline': 'Four Tools for Life'}\n",
      "{'site': 'LunderVand.com', 'title': 'LunderVand', 'gaid': 'G-TJRX2PSWKT', 'tagline': 'The Story of Technology That Must Be Told'}\n"
     ]
    }
   ],
   "source": [
    "for index, series in df.iterrows():\n",
    "    row = series.to_dict()\n",
    "    print(row)\n",
    "    if index > 2:\n",
    "        break"
   ]
  },
  {
   "cell_type": "code",
   "execution_count": null,
   "id": "e0af2470-df22-42fc-8d87-e61927e2e98f",
   "metadata": {},
   "outputs": [
    {
     "name": "stdout",
     "output_type": "stream",
     "text": [
      "Converted 00_core.ipynb.\n",
      "Converted index.ipynb.\n"
     ]
    }
   ],
   "source": [
    "!nbdev_build_lib"
   ]
  },
  {
   "cell_type": "code",
   "execution_count": null,
   "id": "1e3b5669-7012-4357-b52a-82c27bdd04a5",
   "metadata": {},
   "outputs": [],
   "source": []
  }
 ],
 "metadata": {
  "kernelspec": {
   "display_name": "Python 3 (ipykernel)",
   "language": "python",
   "name": "python3"
  }
 },
 "nbformat": 4,
 "nbformat_minor": 5
}
