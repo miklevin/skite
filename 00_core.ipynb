{
 "cells": [
  {
   "cell_type": "code",
   "execution_count": null,
   "id": "5581a6e4-9b75-48ab-81c2-31d34b539004",
   "metadata": {},
   "outputs": [],
   "source": [
    "# default_exp core\n",
    "%load_ext lab_black"
   ]
  },
  {
   "cell_type": "code",
   "execution_count": null,
   "id": "8bab425a-742a-4289-b8c7-41b6ea6c1496",
   "metadata": {},
   "outputs": [],
   "source": [
    "# hide\n",
    "from nbdev.showdoc import *"
   ]
  },
  {
   "cell_type": "code",
   "execution_count": null,
   "id": "18c7cb71-47c4-4278-afcc-444ff9a035e7",
   "metadata": {},
   "outputs": [
    {
     "data": {
      "text/markdown": [
       "# Generaring sites..."
      ],
      "text/plain": [
       "<IPython.core.display.Markdown object>"
      ]
     },
     "metadata": {},
     "output_type": "display_data"
    },
    {
     "data": {
      "text/markdown": [
       "## Python: C:\\Users\\mikle\\AppData\\Roaming\\jupyterlab-desktop\\jlab_server\\python.exe"
      ],
      "text/plain": [
       "<IPython.core.display.Markdown object>"
      ]
     },
     "metadata": {},
     "output_type": "display_data"
    },
    {
     "data": {
      "text/markdown": [
       "## Blogslicer: C:\\Users\\mikle\\github\\blogslicer\\blogslicer\\core.py"
      ],
      "text/plain": [
       "<IPython.core.display.Markdown object>"
      ]
     },
     "metadata": {},
     "output_type": "display_data"
    },
    {
     "name": "stdout",
     "output_type": "stream",
     "text": [
      "\n"
     ]
    },
    {
     "data": {
      "text/markdown": [
       "### GuerillaTech.com"
      ],
      "text/plain": [
       "<IPython.core.display.Markdown object>"
      ]
     },
     "metadata": {},
     "output_type": "display_data"
    },
    {
     "name": "stdout",
     "output_type": "stream",
     "text": [
      "C:\\Users\\mikle\\AppData\\Roaming\\jupyterlab-desktop\\jlab_server\\python.exe C:\\Users\\mikle\\github\\blogslicer\\blogslicer\\core.py -p C:\\Users\\mikle\\github\\GuerillaTech.com -t \"Guerilla Tech\" -s \"blog\" -a \"Mike Levin\"\n",
      "\n",
      "## FILE: C:\\Users\\mikle\\github\\GuerillaTech.com/_posts/2022-04-22-post-1.md\n",
      "GIT: 'C:\\Program Files\\Git\\cmd\\git.exe' add '_posts/*'\n",
      "GIT: 'C:\\Program Files\\Git\\cmd\\git.exe' commit -am 'Publising Blog Posts'\n",
      "On branch main\n",
      "\n",
      "Your branch is up to date with 'origin/main'.\n",
      "\n",
      "\n",
      "\n",
      "nothing to commit, working tree clean\n",
      "\n",
      "GIT: 'C:\\Program Files\\Git\\cmd\\git.exe' push\n"
     ]
    },
    {
     "data": {
      "text/markdown": [
       "### Levinux.com"
      ],
      "text/plain": [
       "<IPython.core.display.Markdown object>"
      ]
     },
     "metadata": {},
     "output_type": "display_data"
    },
    {
     "name": "stdout",
     "output_type": "stream",
     "text": [
      "C:\\Users\\mikle\\AppData\\Roaming\\jupyterlab-desktop\\jlab_server\\python.exe C:\\Users\\mikle\\github\\blogslicer\\blogslicer\\core.py -p C:\\Users\\mikle\\github\\Levinux.com -t \"Levinux\" -s \"blog\" -a \"Mike Levin\"\n",
      "\n",
      "## FILE: C:\\Users\\mikle\\github\\Levinux.com/_posts/1970-01-01-post-1.md\n",
      "GIT: 'C:\\Program Files\\Git\\cmd\\git.exe' add '_posts/*'\n",
      "GIT: 'C:\\Program Files\\Git\\cmd\\git.exe' commit -am 'Publising Blog Posts'\n",
      "On branch gh-pages\n",
      "\n",
      "Your branch is up to date with 'origin/gh-pages'.\n",
      "\n",
      "\n",
      "\n",
      "nothing to commit, working tree clean\n",
      "\n",
      "GIT: 'C:\\Program Files\\Git\\cmd\\git.exe' push\n"
     ]
    },
    {
     "data": {
      "text/markdown": [
       "### LinuxPythonvimgit.com"
      ],
      "text/plain": [
       "<IPython.core.display.Markdown object>"
      ]
     },
     "metadata": {},
     "output_type": "display_data"
    },
    {
     "name": "stdout",
     "output_type": "stream",
     "text": [
      "C:\\Users\\mikle\\AppData\\Roaming\\jupyterlab-desktop\\jlab_server\\python.exe C:\\Users\\mikle\\github\\blogslicer\\blogslicer\\core.py -p C:\\Users\\mikle\\github\\LinuxPythonvimgit.com -t \"Linux, Python, vim & git\" -s \"blog\" -a \"Mike Levin\"\n",
      "\n",
      "## FILE: C:\\Users\\mikle\\github\\LinuxPythonvimgit.com/_posts/2022-05-21-post-6.md\n",
      "## FILE: C:\\Users\\mikle\\github\\LinuxPythonvimgit.com/_posts/2022-05-20-post-5.md\n",
      "## FILE: C:\\Users\\mikle\\github\\LinuxPythonvimgit.com/_posts/2022-05-02-post-4.md\n",
      "## FILE: C:\\Users\\mikle\\github\\LinuxPythonvimgit.com/_posts/2022-05-01-post-3.md\n",
      "## FILE: C:\\Users\\mikle\\github\\LinuxPythonvimgit.com/_posts/2022-04-21-post-2.md\n",
      "## FILE: C:\\Users\\mikle\\github\\LinuxPythonvimgit.com/_posts/2022-04-20-post-1.md\n",
      "GIT: 'C:\\Program Files\\Git\\cmd\\git.exe' add '_posts/*'\n",
      "GIT: 'C:\\Program Files\\Git\\cmd\\git.exe' commit -am 'Publising Blog Posts'\n",
      "On branch main\n",
      "\n",
      "Your branch is up to date with 'origin/main'.\n",
      "\n",
      "\n",
      "\n",
      "nothing to commit, working tree clean\n",
      "\n",
      "GIT: 'C:\\Program Files\\Git\\cmd\\git.exe' push\n"
     ]
    },
    {
     "data": {
      "text/markdown": [
       "### LunderVand.com"
      ],
      "text/plain": [
       "<IPython.core.display.Markdown object>"
      ]
     },
     "metadata": {},
     "output_type": "display_data"
    },
    {
     "name": "stdout",
     "output_type": "stream",
     "text": [
      "C:\\Users\\mikle\\AppData\\Roaming\\jupyterlab-desktop\\jlab_server\\python.exe C:\\Users\\mikle\\github\\blogslicer\\blogslicer\\core.py -p C:\\Users\\mikle\\github\\LunderVand.com -t \"LunderVand\" -s \"blog\" -a \"Mike Levin\"\n",
      "\n",
      "## FILE: C:\\Users\\mikle\\github\\LunderVand.com/_posts/2022-04-22-post-1.md\n",
      "GIT: 'C:\\Program Files\\Git\\cmd\\git.exe' add '_posts/*'\n",
      "GIT: 'C:\\Program Files\\Git\\cmd\\git.exe' commit -am 'Publising Blog Posts'\n",
      "On branch main\n",
      "\n",
      "Your branch is up to date with 'origin/main'.\n",
      "\n",
      "\n",
      "\n",
      "nothing to commit, working tree clean\n",
      "\n",
      "GIT: 'C:\\Program Files\\Git\\cmd\\git.exe' push\n"
     ]
    },
    {
     "data": {
      "text/markdown": [
       "### Mike-Levin.com"
      ],
      "text/plain": [
       "<IPython.core.display.Markdown object>"
      ]
     },
     "metadata": {},
     "output_type": "display_data"
    },
    {
     "name": "stdout",
     "output_type": "stream",
     "text": [
      "C:\\Users\\mikle\\AppData\\Roaming\\jupyterlab-desktop\\jlab_server\\python.exe C:\\Users\\mikle\\github\\blogslicer\\blogslicer\\core.py -p C:\\Users\\mikle\\github\\Mike-Levin.com -t \"Mike Levin Dot Com\" -s \"blog\" -a \"Mike Levin\"\n",
      "\n",
      "## FILE: C:\\Users\\mikle\\github\\Mike-Levin.com/_posts/2022-04-22-post-1.md\n",
      "GIT: 'C:\\Program Files\\Git\\cmd\\git.exe' add '_posts/*'\n",
      "GIT: 'C:\\Program Files\\Git\\cmd\\git.exe' commit -am 'Publising Blog Posts'\n",
      "On branch main\n",
      "\n",
      "Your branch is up to date with 'origin/main'.\n",
      "\n",
      "\n",
      "\n",
      "nothing to commit, working tree clean\n",
      "\n",
      "GIT: 'C:\\Program Files\\Git\\cmd\\git.exe' push\n"
     ]
    },
    {
     "data": {
      "text/markdown": [
       "### MikeAtEleven.com"
      ],
      "text/plain": [
       "<IPython.core.display.Markdown object>"
      ]
     },
     "metadata": {},
     "output_type": "display_data"
    },
    {
     "name": "stdout",
     "output_type": "stream",
     "text": [
      "C:\\Users\\mikle\\AppData\\Roaming\\jupyterlab-desktop\\jlab_server\\python.exe C:\\Users\\mikle\\github\\blogslicer\\blogslicer\\core.py -p C:\\Users\\mikle\\github\\MikeAtEleven.com -t \"Mike At Eleven\" -s \"blog\" -a \"Mike Levin\"\n",
      "\n",
      "## FILE: C:\\Users\\mikle\\github\\MikeAtEleven.com/_posts/2022-06-05-post-23.md\n",
      "## FILE: C:\\Users\\mikle\\github\\MikeAtEleven.com/_posts/2022-05-07-post-22.md\n",
      "## FILE: C:\\Users\\mikle\\github\\MikeAtEleven.com/_posts/2022-05-06-post-21.md\n",
      "## FILE: C:\\Users\\mikle\\github\\MikeAtEleven.com/_posts/2022-05-05-post-20.md\n",
      "## FILE: C:\\Users\\mikle\\github\\MikeAtEleven.com/_posts/2022-05-04-post-19.md\n",
      "## FILE: C:\\Users\\mikle\\github\\MikeAtEleven.com/_posts/2022-05-04-post-18.md\n",
      "## FILE: C:\\Users\\mikle\\github\\MikeAtEleven.com/_posts/2022-05-04-post-17.md\n",
      "## FILE: C:\\Users\\mikle\\github\\MikeAtEleven.com/_posts/2022-05-04-post-16.md\n",
      "## FILE: C:\\Users\\mikle\\github\\MikeAtEleven.com/_posts/2022-05-04-post-15.md\n",
      "## FILE: C:\\Users\\mikle\\github\\MikeAtEleven.com/_posts/2022-05-04-post-14.md\n",
      "## FILE: C:\\Users\\mikle\\github\\MikeAtEleven.com/_posts/2022-05-04-post-13.md\n",
      "## FILE: C:\\Users\\mikle\\github\\MikeAtEleven.com/_posts/2022-05-03-post-12.md\n",
      "## FILE: C:\\Users\\mikle\\github\\MikeAtEleven.com/_posts/2022-05-03-post-11.md\n",
      "## FILE: C:\\Users\\mikle\\github\\MikeAtEleven.com/_posts/2022-05-03-post-10.md\n",
      "## FILE: C:\\Users\\mikle\\github\\MikeAtEleven.com/_posts/2022-05-02-post-9.md\n",
      "## FILE: C:\\Users\\mikle\\github\\MikeAtEleven.com/_posts/2022-04-20-post-8.md\n",
      "## FILE: C:\\Users\\mikle\\github\\MikeAtEleven.com/_posts/2021-09-02-post-7.md\n",
      "## FILE: C:\\Users\\mikle\\github\\MikeAtEleven.com/_posts/2021-08-26-post-6.md\n",
      "## FILE: C:\\Users\\mikle\\github\\MikeAtEleven.com/_posts/2021-08-24-post-5.md\n",
      "## FILE: C:\\Users\\mikle\\github\\MikeAtEleven.com/_posts/2021-08-23-post-4.md\n",
      "## FILE: C:\\Users\\mikle\\github\\MikeAtEleven.com/_posts/2021-08-22-post-3.md\n",
      "## FILE: C:\\Users\\mikle\\github\\MikeAtEleven.com/_posts/2021-08-20-post-2.md\n",
      "## FILE: C:\\Users\\mikle\\github\\MikeAtEleven.com/_posts/2021-08-19-post-1.md\n",
      "GIT: 'C:\\Program Files\\Git\\cmd\\git.exe' add '_posts/*'\n",
      "GIT: 'C:\\Program Files\\Git\\cmd\\git.exe' commit -am 'Publising Blog Posts'\n",
      "On branch main\n",
      "\n",
      "Your branch is up to date with 'origin/main'.\n",
      "\n",
      "\n",
      "\n",
      "nothing to commit, working tree clean\n",
      "\n",
      "GIT: 'C:\\Program Files\\Git\\cmd\\git.exe' push\n"
     ]
    },
    {
     "data": {
      "text/markdown": [
       "### MikeLev.in"
      ],
      "text/plain": [
       "<IPython.core.display.Markdown object>"
      ]
     },
     "metadata": {},
     "output_type": "display_data"
    },
    {
     "name": "stdout",
     "output_type": "stream",
     "text": [
      "C:\\Users\\mikle\\AppData\\Roaming\\jupyterlab-desktop\\jlab_server\\python.exe C:\\Users\\mikle\\github\\blogslicer\\blogslicer\\core.py -p C:\\Users\\mikle\\github\\MikeLev.in -t \"Mike Levin\" -s \"blog\" -a \"Mike Levin\"\n",
      "\n",
      "## FILE: C:\\Users\\mikle\\github\\MikeLev.in/_posts/2022-06-16-post-103.md\n",
      "## FILE: C:\\Users\\mikle\\github\\MikeLev.in/_posts/2022-06-15-post-102.md\n",
      "## FILE: C:\\Users\\mikle\\github\\MikeLev.in/_posts/2022-06-15-post-101.md\n",
      "## FILE: C:\\Users\\mikle\\github\\MikeLev.in/_posts/2022-06-15-post-100.md\n",
      "## FILE: C:\\Users\\mikle\\github\\MikeLev.in/_posts/2022-06-15-post-99.md\n",
      "## FILE: C:\\Users\\mikle\\github\\MikeLev.in/_posts/2022-06-14-post-98.md\n",
      "## FILE: C:\\Users\\mikle\\github\\MikeLev.in/_posts/2022-06-14-post-97.md\n",
      "## FILE: C:\\Users\\mikle\\github\\MikeLev.in/_posts/2022-06-14-post-96.md\n",
      "## FILE: C:\\Users\\mikle\\github\\MikeLev.in/_posts/2022-06-13-post-95.md\n",
      "## FILE: C:\\Users\\mikle\\github\\MikeLev.in/_posts/2022-06-12-post-94.md\n",
      "## FILE: C:\\Users\\mikle\\github\\MikeLev.in/_posts/2022-06-11-post-93.md\n",
      "## FILE: C:\\Users\\mikle\\github\\MikeLev.in/_posts/2022-06-10-post-92.md\n",
      "## FILE: C:\\Users\\mikle\\github\\MikeLev.in/_posts/2022-06-10-post-91.md\n",
      "## FILE: C:\\Users\\mikle\\github\\MikeLev.in/_posts/2022-06-09-post-90.md\n",
      "## FILE: C:\\Users\\mikle\\github\\MikeLev.in/_posts/2022-06-09-post-89.md\n",
      "## FILE: C:\\Users\\mikle\\github\\MikeLev.in/_posts/2022-06-08-post-88.md\n",
      "## FILE: C:\\Users\\mikle\\github\\MikeLev.in/_posts/2022-06-08-post-87.md\n",
      "## FILE: C:\\Users\\mikle\\github\\MikeLev.in/_posts/2022-06-08-post-86.md\n",
      "## FILE: C:\\Users\\mikle\\github\\MikeLev.in/_posts/2022-06-07-post-85.md\n",
      "## FILE: C:\\Users\\mikle\\github\\MikeLev.in/_posts/2022-06-07-post-84.md\n",
      "## FILE: C:\\Users\\mikle\\github\\MikeLev.in/_posts/2022-06-07-post-83.md\n",
      "## FILE: C:\\Users\\mikle\\github\\MikeLev.in/_posts/2022-06-03-post-82.md\n",
      "## FILE: C:\\Users\\mikle\\github\\MikeLev.in/_posts/2022-06-01-post-81.md\n",
      "## FILE: C:\\Users\\mikle\\github\\MikeLev.in/_posts/2022-06-01-post-80.md\n",
      "## FILE: C:\\Users\\mikle\\github\\MikeLev.in/_posts/2022-05-31-post-79.md\n",
      "## FILE: C:\\Users\\mikle\\github\\MikeLev.in/_posts/2022-05-31-post-78.md\n",
      "## FILE: C:\\Users\\mikle\\github\\MikeLev.in/_posts/2022-05-31-post-77.md\n",
      "## FILE: C:\\Users\\mikle\\github\\MikeLev.in/_posts/2022-05-30-post-76.md\n",
      "## FILE: C:\\Users\\mikle\\github\\MikeLev.in/_posts/2022-05-30-post-75.md\n",
      "## FILE: C:\\Users\\mikle\\github\\MikeLev.in/_posts/2022-05-29-post-74.md\n",
      "## FILE: C:\\Users\\mikle\\github\\MikeLev.in/_posts/2022-05-29-post-73.md\n",
      "## FILE: C:\\Users\\mikle\\github\\MikeLev.in/_posts/2022-05-28-post-72.md\n",
      "## FILE: C:\\Users\\mikle\\github\\MikeLev.in/_posts/2022-05-28-post-71.md\n",
      "## FILE: C:\\Users\\mikle\\github\\MikeLev.in/_posts/2022-05-27-post-70.md\n",
      "## FILE: C:\\Users\\mikle\\github\\MikeLev.in/_posts/2022-05-26-post-69.md\n",
      "## FILE: C:\\Users\\mikle\\github\\MikeLev.in/_posts/2022-05-26-post-68.md\n",
      "## FILE: C:\\Users\\mikle\\github\\MikeLev.in/_posts/2022-05-25-post-67.md\n",
      "## FILE: C:\\Users\\mikle\\github\\MikeLev.in/_posts/2022-05-25-post-66.md\n",
      "## FILE: C:\\Users\\mikle\\github\\MikeLev.in/_posts/2022-05-25-post-65.md\n",
      "## FILE: C:\\Users\\mikle\\github\\MikeLev.in/_posts/2022-05-23-post-64.md\n",
      "## FILE: C:\\Users\\mikle\\github\\MikeLev.in/_posts/2022-05-23-post-63.md\n",
      "## FILE: C:\\Users\\mikle\\github\\MikeLev.in/_posts/2022-05-22-post-62.md\n",
      "## FILE: C:\\Users\\mikle\\github\\MikeLev.in/_posts/2022-05-20-post-61.md\n",
      "## FILE: C:\\Users\\mikle\\github\\MikeLev.in/_posts/2022-05-20-post-60.md\n",
      "## FILE: C:\\Users\\mikle\\github\\MikeLev.in/_posts/2022-05-19-post-59.md\n",
      "## FILE: C:\\Users\\mikle\\github\\MikeLev.in/_posts/2022-05-19-post-58.md\n",
      "## FILE: C:\\Users\\mikle\\github\\MikeLev.in/_posts/2022-05-19-post-57.md\n",
      "## FILE: C:\\Users\\mikle\\github\\MikeLev.in/_posts/2022-05-18-post-56.md\n",
      "## FILE: C:\\Users\\mikle\\github\\MikeLev.in/_posts/2022-05-18-post-55.md\n",
      "## FILE: C:\\Users\\mikle\\github\\MikeLev.in/_posts/2022-05-17-post-54.md\n",
      "## FILE: C:\\Users\\mikle\\github\\MikeLev.in/_posts/2022-05-17-post-53.md\n",
      "## FILE: C:\\Users\\mikle\\github\\MikeLev.in/_posts/2022-05-16-post-52.md\n",
      "## FILE: C:\\Users\\mikle\\github\\MikeLev.in/_posts/2022-05-16-post-51.md\n",
      "## FILE: C:\\Users\\mikle\\github\\MikeLev.in/_posts/2022-05-16-post-50.md\n",
      "## FILE: C:\\Users\\mikle\\github\\MikeLev.in/_posts/2022-05-15-post-49.md\n",
      "## FILE: C:\\Users\\mikle\\github\\MikeLev.in/_posts/2022-05-13-post-48.md\n",
      "## FILE: C:\\Users\\mikle\\github\\MikeLev.in/_posts/2022-05-13-post-47.md\n",
      "## FILE: C:\\Users\\mikle\\github\\MikeLev.in/_posts/2022-05-13-post-46.md\n",
      "## FILE: C:\\Users\\mikle\\github\\MikeLev.in/_posts/2022-05-13-post-45.md\n",
      "## FILE: C:\\Users\\mikle\\github\\MikeLev.in/_posts/2022-05-11-post-44.md\n",
      "## FILE: C:\\Users\\mikle\\github\\MikeLev.in/_posts/2022-05-10-post-43.md\n",
      "## FILE: C:\\Users\\mikle\\github\\MikeLev.in/_posts/2022-05-10-post-42.md\n",
      "## FILE: C:\\Users\\mikle\\github\\MikeLev.in/_posts/2022-05-08-post-41.md\n",
      "## FILE: C:\\Users\\mikle\\github\\MikeLev.in/_posts/2022-05-08-post-40.md\n",
      "## FILE: C:\\Users\\mikle\\github\\MikeLev.in/_posts/2022-05-08-post-39.md\n",
      "## FILE: C:\\Users\\mikle\\github\\MikeLev.in/_posts/2022-05-07-post-38.md\n",
      "## FILE: C:\\Users\\mikle\\github\\MikeLev.in/_posts/2022-05-06-post-37.md\n",
      "## FILE: C:\\Users\\mikle\\github\\MikeLev.in/_posts/2022-05-06-post-36.md\n",
      "## FILE: C:\\Users\\mikle\\github\\MikeLev.in/_posts/2022-05-05-post-35.md\n",
      "## FILE: C:\\Users\\mikle\\github\\MikeLev.in/_posts/2022-05-05-post-34.md\n",
      "## FILE: C:\\Users\\mikle\\github\\MikeLev.in/_posts/2022-05-05-post-33.md\n",
      "## FILE: C:\\Users\\mikle\\github\\MikeLev.in/_posts/2022-05-04-post-32.md\n",
      "## FILE: C:\\Users\\mikle\\github\\MikeLev.in/_posts/2022-05-04-post-31.md\n",
      "## FILE: C:\\Users\\mikle\\github\\MikeLev.in/_posts/2022-05-02-post-30.md\n",
      "## FILE: C:\\Users\\mikle\\github\\MikeLev.in/_posts/2022-04-29-post-29.md\n",
      "## FILE: C:\\Users\\mikle\\github\\MikeLev.in/_posts/2022-04-23-post-28.md\n",
      "## FILE: C:\\Users\\mikle\\github\\MikeLev.in/_posts/2022-04-22-post-27.md\n",
      "## FILE: C:\\Users\\mikle\\github\\MikeLev.in/_posts/2022-04-22-post-26.md\n",
      "## FILE: C:\\Users\\mikle\\github\\MikeLev.in/_posts/2022-04-21-post-25.md\n",
      "## FILE: C:\\Users\\mikle\\github\\MikeLev.in/_posts/2022-04-21-post-24.md\n",
      "## FILE: C:\\Users\\mikle\\github\\MikeLev.in/_posts/2022-04-15-post-23.md\n",
      "## FILE: C:\\Users\\mikle\\github\\MikeLev.in/_posts/2022-04-15-post-22.md\n",
      "## FILE: C:\\Users\\mikle\\github\\MikeLev.in/_posts/2022-04-13-post-21.md\n",
      "## FILE: C:\\Users\\mikle\\github\\MikeLev.in/_posts/2022-04-10-post-20.md\n",
      "## FILE: C:\\Users\\mikle\\github\\MikeLev.in/_posts/2022-04-09-post-19.md\n",
      "## FILE: C:\\Users\\mikle\\github\\MikeLev.in/_posts/2022-04-08-post-18.md\n",
      "## FILE: C:\\Users\\mikle\\github\\MikeLev.in/_posts/2022-04-07-post-17.md\n",
      "## FILE: C:\\Users\\mikle\\github\\MikeLev.in/_posts/2022-02-21-post-16.md\n",
      "## FILE: C:\\Users\\mikle\\github\\MikeLev.in/_posts/2022-02-18-post-15.md\n",
      "## FILE: C:\\Users\\mikle\\github\\MikeLev.in/_posts/2022-02-17-post-14.md\n",
      "## FILE: C:\\Users\\mikle\\github\\MikeLev.in/_posts/2022-02-16-post-13.md\n",
      "## FILE: C:\\Users\\mikle\\github\\MikeLev.in/_posts/2022-02-15-post-12.md\n",
      "## FILE: C:\\Users\\mikle\\github\\MikeLev.in/_posts/2021-11-14-post-11.md\n",
      "## FILE: C:\\Users\\mikle\\github\\MikeLev.in/_posts/2021-08-30-post-10.md\n",
      "## FILE: C:\\Users\\mikle\\github\\MikeLev.in/_posts/2021-08-26-post-9.md\n",
      "## FILE: C:\\Users\\mikle\\github\\MikeLev.in/_posts/2021-08-24-post-8.md\n",
      "## FILE: C:\\Users\\mikle\\github\\MikeLev.in/_posts/2021-08-20-post-7.md\n",
      "## FILE: C:\\Users\\mikle\\github\\MikeLev.in/_posts/2021-08-20-post-6.md\n",
      "## FILE: C:\\Users\\mikle\\github\\MikeLev.in/_posts/2021-08-20-post-5.md\n",
      "## FILE: C:\\Users\\mikle\\github\\MikeLev.in/_posts/2021-08-06-post-4.md\n",
      "## FILE: C:\\Users\\mikle\\github\\MikeLev.in/_posts/2021-08-05-post-3.md\n",
      "## FILE: C:\\Users\\mikle\\github\\MikeLev.in/_posts/None-post-2.md\n",
      "## FILE: C:\\Users\\mikle\\github\\MikeLev.in/_posts/None-post-1.md\n",
      "GIT: 'C:\\Program Files\\Git\\cmd\\git.exe' add '_posts/*'\n",
      "GIT: 'C:\\Program Files\\Git\\cmd\\git.exe' commit -am 'Publising Blog Posts'\n",
      "On branch main\n",
      "\n",
      "Your branch is up to date with 'origin/main'.\n",
      "\n",
      "\n",
      "\n",
      "nothing to commit, working tree clean\n",
      "\n",
      "GIT: 'C:\\Program Files\\Git\\cmd\\git.exe' push\n"
     ]
    },
    {
     "data": {
      "text/markdown": [
       "### MikeLevinSEO.com"
      ],
      "text/plain": [
       "<IPython.core.display.Markdown object>"
      ]
     },
     "metadata": {},
     "output_type": "display_data"
    },
    {
     "name": "stdout",
     "output_type": "stream",
     "text": [
      "C:\\Users\\mikle\\AppData\\Roaming\\jupyterlab-desktop\\jlab_server\\python.exe C:\\Users\\mikle\\github\\blogslicer\\blogslicer\\core.py -p C:\\Users\\mikle\\github\\MikeLevinSEO.com -t \"Mike Levin SEO\" -s \"blog\" -a \"Mike Levin\"\n",
      "\n",
      "## FILE: C:\\Users\\mikle\\github\\MikeLevinSEO.com/_posts/2022-05-29-post-36.md\n",
      "## FILE: C:\\Users\\mikle\\github\\MikeLevinSEO.com/_posts/2022-05-21-post-35.md\n",
      "## FILE: C:\\Users\\mikle\\github\\MikeLevinSEO.com/_posts/2022-05-18-post-34.md\n",
      "## FILE: C:\\Users\\mikle\\github\\MikeLevinSEO.com/_posts/2022-05-13-post-33.md\n",
      "## FILE: C:\\Users\\mikle\\github\\MikeLevinSEO.com/_posts/2022-05-07-post-32.md\n",
      "## FILE: C:\\Users\\mikle\\github\\MikeLevinSEO.com/_posts/2022-05-07-post-31.md\n",
      "## FILE: C:\\Users\\mikle\\github\\MikeLevinSEO.com/_posts/2022-05-07-post-30.md\n",
      "## FILE: C:\\Users\\mikle\\github\\MikeLevinSEO.com/_posts/2022-05-05-post-29.md\n",
      "## FILE: C:\\Users\\mikle\\github\\MikeLevinSEO.com/_posts/2022-05-04-post-28.md\n",
      "## FILE: C:\\Users\\mikle\\github\\MikeLevinSEO.com/_posts/2022-05-04-post-27.md\n",
      "## FILE: C:\\Users\\mikle\\github\\MikeLevinSEO.com/_posts/2022-05-03-post-26.md\n",
      "## FILE: C:\\Users\\mikle\\github\\MikeLevinSEO.com/_posts/2022-05-02-post-25.md\n",
      "## FILE: C:\\Users\\mikle\\github\\MikeLevinSEO.com/_posts/2022-05-02-post-24.md\n",
      "## FILE: C:\\Users\\mikle\\github\\MikeLevinSEO.com/_posts/2022-05-01-post-23.md\n",
      "## FILE: C:\\Users\\mikle\\github\\MikeLevinSEO.com/_posts/2022-05-01-post-22.md\n",
      "## FILE: C:\\Users\\mikle\\github\\MikeLevinSEO.com/_posts/2022-05-01-post-21.md\n",
      "## FILE: C:\\Users\\mikle\\github\\MikeLevinSEO.com/_posts/2022-05-01-post-20.md\n",
      "## FILE: C:\\Users\\mikle\\github\\MikeLevinSEO.com/_posts/2022-05-01-post-19.md\n",
      "## FILE: C:\\Users\\mikle\\github\\MikeLevinSEO.com/_posts/2022-05-01-post-18.md\n",
      "## FILE: C:\\Users\\mikle\\github\\MikeLevinSEO.com/_posts/2022-05-01-post-17.md\n",
      "## FILE: C:\\Users\\mikle\\github\\MikeLevinSEO.com/_posts/2022-05-01-post-16.md\n",
      "## FILE: C:\\Users\\mikle\\github\\MikeLevinSEO.com/_posts/2022-04-30-post-15.md\n",
      "## FILE: C:\\Users\\mikle\\github\\MikeLevinSEO.com/_posts/2022-04-30-post-14.md\n",
      "## FILE: C:\\Users\\mikle\\github\\MikeLevinSEO.com/_posts/2022-04-30-post-13.md\n",
      "## FILE: C:\\Users\\mikle\\github\\MikeLevinSEO.com/_posts/2022-04-30-post-12.md\n",
      "## FILE: C:\\Users\\mikle\\github\\MikeLevinSEO.com/_posts/2022-04-30-post-11.md\n",
      "## FILE: C:\\Users\\mikle\\github\\MikeLevinSEO.com/_posts/2022-04-29-post-10.md\n",
      "## FILE: C:\\Users\\mikle\\github\\MikeLevinSEO.com/_posts/2022-04-29-post-9.md\n",
      "## FILE: C:\\Users\\mikle\\github\\MikeLevinSEO.com/_posts/2022-04-29-post-8.md\n",
      "## FILE: C:\\Users\\mikle\\github\\MikeLevinSEO.com/_posts/2022-04-28-post-7.md\n",
      "## FILE: C:\\Users\\mikle\\github\\MikeLevinSEO.com/_posts/2022-04-27-post-6.md\n",
      "## FILE: C:\\Users\\mikle\\github\\MikeLevinSEO.com/_posts/2022-04-27-post-5.md\n",
      "## FILE: C:\\Users\\mikle\\github\\MikeLevinSEO.com/_posts/2022-04-26-post-4.md\n",
      "## FILE: C:\\Users\\mikle\\github\\MikeLevinSEO.com/_posts/2022-04-26-post-3.md\n",
      "## FILE: C:\\Users\\mikle\\github\\MikeLevinSEO.com/_posts/2022-04-25-post-2.md\n",
      "## FILE: C:\\Users\\mikle\\github\\MikeLevinSEO.com/_posts/2022-04-23-post-1.md\n",
      "GIT: 'C:\\Program Files\\Git\\cmd\\git.exe' add '_posts/*'\n",
      "GIT: 'C:\\Program Files\\Git\\cmd\\git.exe' commit -am 'Publising Blog Posts'\n",
      "On branch main\n",
      "\n",
      "Your branch is up to date with 'origin/main'.\n",
      "\n",
      "\n",
      "\n",
      "nothing to commit, working tree clean\n",
      "\n",
      "GIT: 'C:\\Program Files\\Git\\cmd\\git.exe' push\n"
     ]
    },
    {
     "data": {
      "text/markdown": [
       "### Pipulate.com"
      ],
      "text/plain": [
       "<IPython.core.display.Markdown object>"
      ]
     },
     "metadata": {},
     "output_type": "display_data"
    },
    {
     "name": "stdout",
     "output_type": "stream",
     "text": [
      "C:\\Users\\mikle\\AppData\\Roaming\\jupyterlab-desktop\\jlab_server\\python.exe C:\\Users\\mikle\\github\\blogslicer\\blogslicer\\core.py -p C:\\Users\\mikle\\github\\Pipulate.com -t \"Pipulate\" -s \"blog\" -a \"Mike Levin\"\n",
      "\n",
      "## FILE: C:\\Users\\mikle\\github\\Pipulate.com/_posts/2022-04-22-post-1.md\n",
      "GIT: 'C:\\Program Files\\Git\\cmd\\git.exe' add '_posts/*'\n",
      "GIT: 'C:\\Program Files\\Git\\cmd\\git.exe' commit -am 'Publising Blog Posts'\n",
      "On branch ghpages\n",
      "\n",
      "Your branch is up to date with 'origin/ghpages'.\n",
      "\n",
      "\n",
      "\n",
      "nothing to commit, working tree clean\n",
      "\n",
      "GIT: 'C:\\Program Files\\Git\\cmd\\git.exe' push\n"
     ]
    },
    {
     "data": {
      "text/markdown": [
       "### PythonicAlly.com"
      ],
      "text/plain": [
       "<IPython.core.display.Markdown object>"
      ]
     },
     "metadata": {},
     "output_type": "display_data"
    },
    {
     "name": "stdout",
     "output_type": "stream",
     "text": [
      "C:\\Users\\mikle\\AppData\\Roaming\\jupyterlab-desktop\\jlab_server\\python.exe C:\\Users\\mikle\\github\\blogslicer\\blogslicer\\core.py -p C:\\Users\\mikle\\github\\PythonicAlly.com -t \"Pythonically\" -s \"blog\" -a \"Mike Levin\"\n",
      "\n",
      "## FILE: C:\\Users\\mikle\\github\\PythonicAlly.com/_posts/2022-04-28-post-1.md\n",
      "GIT: 'C:\\Program Files\\Git\\cmd\\git.exe' add '_posts/*'\n",
      "GIT: 'C:\\Program Files\\Git\\cmd\\git.exe' commit -am 'Publising Blog Posts'\n",
      "On branch main\n",
      "\n",
      "Your branch is up to date with 'origin/main'.\n",
      "\n",
      "\n",
      "\n",
      "nothing to commit, working tree clean\n",
      "\n",
      "GIT: 'C:\\Program Files\\Git\\cmd\\git.exe' push\n"
     ]
    },
    {
     "data": {
      "text/markdown": [
       "### PythonicAlly.org"
      ],
      "text/plain": [
       "<IPython.core.display.Markdown object>"
      ]
     },
     "metadata": {},
     "output_type": "display_data"
    },
    {
     "name": "stdout",
     "output_type": "stream",
     "text": [
      "C:\\Users\\mikle\\AppData\\Roaming\\jupyterlab-desktop\\jlab_server\\python.exe C:\\Users\\mikle\\github\\blogslicer\\blogslicer\\core.py -p C:\\Users\\mikle\\github\\PythonicAlly.org -t \"Your Pythonic Ally\" -s \"blog\" -a \"Mike Levin\"\n",
      "\n",
      "## FILE: C:\\Users\\mikle\\github\\PythonicAlly.org/_posts/1970-01-01-post-1.md\n",
      "GIT: 'C:\\Program Files\\Git\\cmd\\git.exe' add '_posts/*'\n",
      "GIT: 'C:\\Program Files\\Git\\cmd\\git.exe' commit -am 'Publising Blog Posts'\n",
      "On branch main\n",
      "\n",
      "Your branch is up to date with 'origin/main'.\n",
      "\n",
      "\n",
      "\n",
      "nothing to commit, working tree clean\n",
      "\n",
      "GIT: 'C:\\Program Files\\Git\\cmd\\git.exe' push\n"
     ]
    },
    {
     "data": {
      "text/markdown": [
       "### RemovableFinger.com"
      ],
      "text/plain": [
       "<IPython.core.display.Markdown object>"
      ]
     },
     "metadata": {},
     "output_type": "display_data"
    },
    {
     "name": "stdout",
     "output_type": "stream",
     "text": [
      "C:\\Users\\mikle\\AppData\\Roaming\\jupyterlab-desktop\\jlab_server\\python.exe C:\\Users\\mikle\\github\\blogslicer\\blogslicer\\core.py -p C:\\Users\\mikle\\github\\RemovableFinger.com -t \"Removable Finger\" -s \"blog\" -a \"Mike Levin\"\n",
      "\n",
      "## FILE: C:\\Users\\mikle\\github\\RemovableFinger.com/_posts/2022-05-01-post-1.md\n",
      "GIT: 'C:\\Program Files\\Git\\cmd\\git.exe' add '_posts/*'\n",
      "GIT: 'C:\\Program Files\\Git\\cmd\\git.exe' commit -am 'Publising Blog Posts'\n",
      "On branch main\n",
      "\n",
      "Your branch is up to date with 'origin/main'.\n",
      "\n",
      "\n",
      "\n",
      "nothing to commit, working tree clean\n",
      "\n",
      "GIT: 'C:\\Program Files\\Git\\cmd\\git.exe' push\n"
     ]
    },
    {
     "data": {
      "text/markdown": [
       "### TardigradeCircus.com"
      ],
      "text/plain": [
       "<IPython.core.display.Markdown object>"
      ]
     },
     "metadata": {},
     "output_type": "display_data"
    },
    {
     "name": "stdout",
     "output_type": "stream",
     "text": [
      "C:\\Users\\mikle\\AppData\\Roaming\\jupyterlab-desktop\\jlab_server\\python.exe C:\\Users\\mikle\\github\\blogslicer\\blogslicer\\core.py -p C:\\Users\\mikle\\github\\TardigradeCircus.com -t \"Tardigrade Circus\" -s \"blog\" -a \"Mike Levin\"\n",
      "\n",
      "## FILE: C:\\Users\\mikle\\github\\TardigradeCircus.com/_posts/2022-04-22-post-1.md\n",
      "GIT: 'C:\\Program Files\\Git\\cmd\\git.exe' add '_posts/*'\n",
      "GIT: 'C:\\Program Files\\Git\\cmd\\git.exe' commit -am 'Publising Blog Posts'\n",
      "On branch main\n",
      "\n",
      "Your branch is up to date with 'origin/main'.\n",
      "\n",
      "\n",
      "\n",
      "nothing to commit, working tree clean\n",
      "\n",
      "GIT: 'C:\\Program Files\\Git\\cmd\\git.exe' push\n"
     ]
    },
    {
     "data": {
      "text/markdown": [
       "### TicTacUFOSightings.com"
      ],
      "text/plain": [
       "<IPython.core.display.Markdown object>"
      ]
     },
     "metadata": {},
     "output_type": "display_data"
    },
    {
     "name": "stdout",
     "output_type": "stream",
     "text": [
      "C:\\Users\\mikle\\AppData\\Roaming\\jupyterlab-desktop\\jlab_server\\python.exe C:\\Users\\mikle\\github\\blogslicer\\blogslicer\\core.py -p C:\\Users\\mikle\\github\\TicTacUFOSightings.com -t \"Tic Tac UFO Sightings\" -s \"blog\" -a \"Mike Levin\"\n",
      "\n",
      "## FILE: C:\\Users\\mikle\\github\\TicTacUFOSightings.com/_posts/1970-01-01-post-1.md\n",
      "GIT: 'C:\\Program Files\\Git\\cmd\\git.exe' add '_posts/*'\n",
      "GIT: 'C:\\Program Files\\Git\\cmd\\git.exe' commit -am 'Publising Blog Posts'\n",
      "On branch main\n",
      "\n",
      "Your branch is up to date with 'origin/main'.\n",
      "\n",
      "\n",
      "\n",
      "nothing to commit, working tree clean\n",
      "\n",
      "GIT: 'C:\\Program Files\\Git\\cmd\\git.exe' push\n"
     ]
    },
    {
     "data": {
      "text/markdown": [
       "### WeeklyReports.zd"
      ],
      "text/plain": [
       "<IPython.core.display.Markdown object>"
      ]
     },
     "metadata": {},
     "output_type": "display_data"
    },
    {
     "name": "stdout",
     "output_type": "stream",
     "text": [
      "C:\\Users\\mikle\\AppData\\Roaming\\jupyterlab-desktop\\jlab_server\\python.exe C:\\Users\\mikle\\github\\blogslicer\\blogslicer\\core.py -p C:\\Users\\mikle\\github\\WeeklyReports.zd -t \"Mike Levin's Weekly Reports\" -s \"blog\" -a \"Mike Levin\"\n",
      "\n",
      "## FILE: C:\\Users\\mikle\\github\\WeeklyReports.zd/_posts/2022-05-14-post-2.md\n",
      "## FILE: C:\\Users\\mikle\\github\\WeeklyReports.zd/_posts/2022-05-07-post-1.md\n",
      "GIT: 'C:\\Program Files\\Git\\cmd\\git.exe' add '_posts/*'\n",
      "GIT: 'C:\\Program Files\\Git\\cmd\\git.exe' commit -am 'Publising Blog Posts'\n",
      "On branch main\n",
      "\n",
      "Your branch is up to date with 'origin/main'.\n",
      "\n",
      "\n",
      "\n",
      "nothing to commit, working tree clean\n",
      "\n",
      "GIT: 'C:\\Program Files\\Git\\cmd\\git.exe' push\n"
     ]
    },
    {
     "data": {
      "text/markdown": [
       "### WhatsaMetaFor.io"
      ],
      "text/plain": [
       "<IPython.core.display.Markdown object>"
      ]
     },
     "metadata": {},
     "output_type": "display_data"
    },
    {
     "name": "stdout",
     "output_type": "stream",
     "text": [
      "C:\\Users\\mikle\\AppData\\Roaming\\jupyterlab-desktop\\jlab_server\\python.exe C:\\Users\\mikle\\github\\blogslicer\\blogslicer\\core.py -p C:\\Users\\mikle\\github\\WhatsaMetaFor.io -t \"What's A Meta For\" -s \"blog\" -a \"Mike Levin\"\n",
      "\n",
      "## FILE: C:\\Users\\mikle\\github\\WhatsaMetaFor.io/_posts/2022-05-06-post-4.md\n",
      "## FILE: C:\\Users\\mikle\\github\\WhatsaMetaFor.io/_posts/2022-05-03-post-3.md\n",
      "## FILE: C:\\Users\\mikle\\github\\WhatsaMetaFor.io/_posts/2022-04-30-post-2.md\n",
      "## FILE: C:\\Users\\mikle\\github\\WhatsaMetaFor.io/_posts/None-post-1.md\n",
      "GIT: 'C:\\Program Files\\Git\\cmd\\git.exe' add '_posts/*'\n",
      "GIT: 'C:\\Program Files\\Git\\cmd\\git.exe' commit -am 'Publising Blog Posts'\n",
      "On branch main\n",
      "\n",
      "Your branch is up to date with 'origin/main'.\n",
      "\n",
      "\n",
      "\n",
      "nothing to commit, working tree clean\n",
      "\n",
      "GIT: 'C:\\Program Files\\Git\\cmd\\git.exe' push\n"
     ]
    },
    {
     "data": {
      "text/markdown": [
       "## Done!"
      ],
      "text/plain": [
       "<IPython.core.display.Markdown object>"
      ]
     },
     "metadata": {},
     "output_type": "display_data"
    }
   ],
   "source": [
    "# export\n",
    "\n",
    "import os\n",
    "\n",
    "if os.name == \"nt\":\n",
    "    git_exe = r\"C:\\Program Files\\Git\\cmd\\git.exe\"\n",
    "else:\n",
    "    git_exe = \"/usr/bin/git\"\n",
    "os.environ[\"GIT_PYTHON_GIT_EXECUTABLE\"] = git_exe\n",
    "import sys\n",
    "import shlex\n",
    "import argparse\n",
    "import pandas as pd\n",
    "from git import Repo\n",
    "from pathlib import Path\n",
    "from collections import namedtuple\n",
    "from subprocess import Popen, PIPE\n",
    "\n",
    "\n",
    "python = sys.executable\n",
    "home = Path(os.path.expanduser(\"~\"))\n",
    "blogslicer = Path(home / Path(\"github/blogslicer/blogslicer/core.py\"))\n",
    "if hasattr(__builtins__, \"__IPYTHON__\") or __name__ != \"__main__\":\n",
    "    from IPython.display import display, Markdown\n",
    "\n",
    "    h1 = lambda text: display(Markdown(f\"# {text}\"))\n",
    "    h2 = lambda text: display(Markdown(f\"## {text}\"))\n",
    "    h3 = lambda text: display(Markdown(f\"### {text}\"))\n",
    "\n",
    "    file = \"sites.csv\"\n",
    "else:\n",
    "    h1 = lambda text: print(f\"# {text}\")\n",
    "    h2 = lambda text: print(f\"## {text}\")\n",
    "    h3 = lambda text: print(f\"## {text}\")\n",
    "\n",
    "    aparser = argparse.ArgumentParser()\n",
    "    add_arg = aparser.add_argument\n",
    "    add_arg(\"-f\", \"--file\", required=True)\n",
    "    args = aparser.parse_args()\n",
    "    file = args.file\n",
    "\n",
    "h1(\"Generaring sites...\")\n",
    "file_obj = Path(file)\n",
    "df = pd.read_csv(file_obj, delimiter=\"|\")\n",
    "df = df.applymap(lambda x: x.strip())\n",
    "df.columns = [x.strip() for x in df.columns]\n",
    "Site = namedtuple(\"Site\", \"path, apex, title, gaid, tagline\")\n",
    "\n",
    "\n",
    "def git(args):\n",
    "    cmd = [git_exe] + shlex.split(args)\n",
    "    process = Popen(\n",
    "        args=cmd,\n",
    "        cwd=here,\n",
    "        stdout=PIPE,\n",
    "        stderr=PIPE,\n",
    "        shell=False,\n",
    "        bufsize=1,\n",
    "        universal_newlines=True,\n",
    "    )\n",
    "    print(f\"GIT: {shlex.join(cmd)}\")\n",
    "    for line in process.stdout:\n",
    "        print(line)\n",
    "        sys.stdout.flush()\n",
    "\n",
    "\n",
    "h2(f\"Python: {python}\")\n",
    "h2(f\"Blogslicer: {blogslicer}\")\n",
    "print()\n",
    "for index, series in df.iterrows():\n",
    "    site = Site(**series.to_dict())\n",
    "    h3(site.apex)\n",
    "    here = Path(home / site.path)\n",
    "\n",
    "    # Blog Slicer\n",
    "    cmd = f'{python} {blogslicer} -p {here} -t \"{site.title}\" -s \"blog\" -a \"Mike Levin\"'\n",
    "    print(cmd, end=\"\\n\\n\")\n",
    "    with Popen(args=cmd, cwd=here, stdout=PIPE, stderr=PIPE, shell=True) as pout:\n",
    "        for line in pout.stdout.readlines():\n",
    "            print(line.decode().strip())\n",
    "\n",
    "    git(\"add _posts/*\")\n",
    "    git('commit -am \"Publising Blog Posts\"')\n",
    "    git(\"push\")\n",
    "\n",
    "\n",
    "h2(\"Done!\")"
   ]
  },
  {
   "cell_type": "code",
   "execution_count": null,
   "id": "e0af2470-df22-42fc-8d87-e61927e2e98f",
   "metadata": {},
   "outputs": [],
   "source": [
    "!nbdev_clean_nbs\n",
    "!nbdev_build_lib"
   ]
  },
  {
   "cell_type": "code",
   "execution_count": null,
   "id": "f13f6cbb-6319-4568-ad33-4bfe71a0b2c6",
   "metadata": {},
   "outputs": [],
   "source": []
  }
 ],
 "metadata": {
  "kernelspec": {
   "display_name": "Python 3 (ipykernel)",
   "language": "python",
   "name": "python3"
  }
 },
 "nbformat": 4,
 "nbformat_minor": 5
}
