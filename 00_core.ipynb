{
 "cells": [
  {
   "cell_type": "code",
   "execution_count": null,
   "id": "5581a6e4-9b75-48ab-81c2-31d34b539004",
   "metadata": {},
   "outputs": [],
   "source": [
    "# default_exp core\n",
    "%load_ext lab_black"
   ]
  },
  {
   "cell_type": "code",
   "execution_count": null,
   "id": "8bab425a-742a-4289-b8c7-41b6ea6c1496",
   "metadata": {},
   "outputs": [],
   "source": [
    "# hide\n",
    "from nbdev.showdoc import *"
   ]
  },
  {
   "cell_type": "code",
   "execution_count": null,
   "id": "18c7cb71-47c4-4278-afcc-444ff9a035e7",
   "metadata": {},
   "outputs": [
    {
     "name": "stdout",
     "output_type": "stream",
     "text": [
      "b'GuerillaTech.com\\r\\n'\n",
      "b'Levinux.com\\r\\n'\n",
      "b'LinuxPythonvimgit.com\\r\\n'\n",
      "b'LunderVand.com\\r\\n'\n",
      "b'Mike-Levin.com\\r\\n'\n",
      "b'MikeAtEleven.com\\r\\n'\n",
      "b'MikeLev.in\\r\\n'\n",
      "b'MikeLevinSEO.com\\r\\n'\n",
      "b'Pipulate.com\\r\\n'\n",
      "b'PythonicAlly.com\\r\\n'\n",
      "b'PythonicAlly.org\\r\\n'\n",
      "b'RemovableFinger.com\\r\\n'\n",
      "b'TardigradeCircus.com\\r\\n'\n",
      "b'TicTacUFOSightings.com\\r\\n'\n",
      "b'WeeklyReports.zd\\r\\n'\n",
      "b'WhatsaMetaFor.io\\r\\n'\n"
     ]
    }
   ],
   "source": [
    "# export\n",
    "\n",
    "import argparse\n",
    "import pandas as pd\n",
    "from pathlib import Path\n",
    "from collections import namedtuple\n",
    "from subprocess import Popen, PIPE\n",
    "\n",
    "if hasattr(__builtins__, \"__IPYTHON__\") or __name__ != \"__main__\":\n",
    "    file = \"sites.csv\"\n",
    "else:\n",
    "    aparser = argparse.ArgumentParser()\n",
    "    add_arg = aparser.add_argument\n",
    "    add_arg(\"-f\", \"--file\", required=True)\n",
    "    args = aparser.parse_args()\n",
    "    file = args.file\n",
    "\n",
    "file_obj = Path(file)\n",
    "df = pd.read_csv(file_obj, delimiter=\"|\")\n",
    "df = df.applymap(lambda x: x.strip())\n",
    "df.columns = [x.strip() for x in df.columns]\n",
    "Site = namedtuple(\"Site\", \"path, apex, title, gaid, tagline\")\n",
    "\n",
    "for index, series in df.iterrows():\n",
    "    site = Site(**series.to_dict())\n",
    "    with Popen([\"echo\", site.apex], stdout=PIPE, shell=True) as pout:\n",
    "        print(pout.stdout.read())"
   ]
  },
  {
   "cell_type": "code",
   "execution_count": null,
   "id": "e0af2470-df22-42fc-8d87-e61927e2e98f",
   "metadata": {},
   "outputs": [],
   "source": [
    "!nbdev_build_lib"
   ]
  },
  {
   "cell_type": "code",
   "execution_count": null,
   "id": "21671c73-49a6-419a-9691-36303570e0ee",
   "metadata": {},
   "outputs": [],
   "source": []
  }
 ],
 "metadata": {
  "kernelspec": {
   "display_name": "Python 3 (ipykernel)",
   "language": "python",
   "name": "python3"
  }
 },
 "nbformat": 4,
 "nbformat_minor": 5
}
