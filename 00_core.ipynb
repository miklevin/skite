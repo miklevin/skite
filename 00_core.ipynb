{
 "cells": [
  {
   "cell_type": "code",
   "execution_count": null,
   "id": "5581a6e4-9b75-48ab-81c2-31d34b539004",
   "metadata": {},
   "outputs": [],
   "source": [
    "# default_exp core\n",
    "%load_ext lab_black"
   ]
  },
  {
   "cell_type": "code",
   "execution_count": null,
   "id": "8bab425a-742a-4289-b8c7-41b6ea6c1496",
   "metadata": {},
   "outputs": [],
   "source": [
    "# hide\n",
    "from nbdev.showdoc import *"
   ]
  },
  {
   "cell_type": "code",
   "execution_count": null,
   "id": "8435cdd0-b6a7-4710-a99d-a57599fb4bca",
   "metadata": {},
   "outputs": [
    {
     "name": "stdout",
     "output_type": "stream",
     "text": [
      "   site                    title                        gaid           \\\n",
      "0         GuerillaTech.com                Guerilla Tech  G-N4RYB5DCV4   \n",
      "1              Levinux.com                      Levinux  G-0H19QDRNTL   \n",
      "2    LinuxPythonvimgit.com     Linux, Python, vim & git  G-ZNMVJFLRD2   \n",
      "3           LunderVand.com                   LunderVand  G-TJRX2PSWKT   \n",
      "4           Mike-Levin.com           Mike Levin Dot Com  G-K86B8JW5Q5   \n",
      "5         MikeAtEleven.com               Mike At Eleven  G-L7L2XR3J2G   \n",
      "6               MikeLev.in                   Mike Levin  G-RX2D1N1P2Y   \n",
      "7         MikeLevinSEO.com               Mike Levin SEO  G-RNSSPXFB53   \n",
      "8             Pipulate.com                     Pipulate  G-45KYH6XTTX   \n",
      "9         PythonicAlly.com                 Pythonically  G-K5EQ2QQG5D   \n",
      "10        PythonicAlly.org           Your Pythonic Ally  G-1JFHT28DRL   \n",
      "11     RemovableFinger.com             Removable Finger  G-L3QGENNVJ3   \n",
      "12    TardigradeCircus.com            Tardigrade Circus  G-9YEC9X0GDW   \n",
      "13  TicTacUFOSightings.com        Tic Tac UFO Sightings  G-YXNMZY6Z6F   \n",
      "14        WeeklyReports.zd  Mike Levin's Weekly Reports  G-foobarbaz1   \n",
      "15        WhatsaMetaFor.io            What's A Meta For  G-HL9DEK1TSG   \n",
      "\n",
      "                                      tagline  \n",
      "0             Low Tech Liability, High Return  \n",
      "1    A Micro Linux Distribution for Education  \n",
      "2                         Four Tools for Life  \n",
      "3   The Story of Technology That Must Be Told  \n",
      "4                    The Resume of Mike Levin  \n",
      "5                 Talking To My Kid At Eleven  \n",
      "6                   Daily Blogging & Vlogging  \n",
      "7      Search Engine Optmizer & Data Engineer  \n",
      "8         Free & Open Source Software for SEO  \n",
      "9               Learn Python the Pythonic Way  \n",
      "10         Your Pythonic Ally Learning Python  \n",
      "11          Learn Magic Tricks and Hand Magic  \n",
      "12                   Build a Very Tiny Empire  \n",
      "13         Antigravity Propultion Is So 1950s  \n",
      "14      Documenting Constant Forward Progress  \n",
      "15  Answering SEOs & Life's Eternal Questions  \n"
     ]
    }
   ],
   "source": [
    "# export\n",
    "\n",
    "import argparse\n",
    "import pandas as pd\n",
    "from pathlib import Path\n",
    "\n",
    "if hasattr(__builtins__, \"__IPYTHON__\") or __name__ != \"__main__\":\n",
    "    file = \"sites.csv\"\n",
    "else:\n",
    "    aparser = argparse.ArgumentParser()\n",
    "    add_arg = aparser.add_argument\n",
    "    add_arg(\"-f\", \"--file\", required=True)\n",
    "    args = aparser.parse_args()\n",
    "    file = args.file\n",
    "\n",
    "file_obj = Path(file)\n",
    "df = pd.read_csv(file_obj, delimiter=\"|\")\n",
    "df = df.applymap(lambda x: x.strip() if isinstance(x, str) else x)"
   ]
  },
  {
   "cell_type": "code",
   "execution_count": null,
   "id": "e0af2470-df22-42fc-8d87-e61927e2e98f",
   "metadata": {},
   "outputs": [
    {
     "name": "stdout",
     "output_type": "stream",
     "text": [
      "Converted 00_core.ipynb.\n",
      "Converted index.ipynb.\n"
     ]
    }
   ],
   "source": [
    "!nbdev_build_lib"
   ]
  },
  {
   "cell_type": "code",
   "execution_count": null,
   "id": "c97ad471-72e9-4b38-88f0-a8d8545c21d8",
   "metadata": {},
   "outputs": [],
   "source": []
  }
 ],
 "metadata": {
  "kernelspec": {
   "display_name": "Python 3 (ipykernel)",
   "language": "python",
   "name": "python3"
  }
 },
 "nbformat": 4,
 "nbformat_minor": 5
}
