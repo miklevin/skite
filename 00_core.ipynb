{
 "cells": [
  {
   "cell_type": "code",
   "execution_count": null,
   "id": "5581a6e4-9b75-48ab-81c2-31d34b539004",
   "metadata": {},
   "outputs": [],
   "source": [
    "# default_exp core\n",
    "%load_ext lab_black"
   ]
  },
  {
   "cell_type": "code",
   "execution_count": null,
   "id": "8bab425a-742a-4289-b8c7-41b6ea6c1496",
   "metadata": {},
   "outputs": [],
   "source": [
    "# hide\n",
    "from nbdev.showdoc import *"
   ]
  },
  {
   "cell_type": "code",
   "execution_count": null,
   "id": "8c06fcd5-e381-438e-9fe7-b76d52c46f19",
   "metadata": {},
   "outputs": [
    {
     "data": {
      "text/html": [
       "<pre style=\"white-space: pre;\"> __  __         _     _                 ____   _  _                       <br/>|  \\/  |  __ _ | | __(_) _ __    __ _  / ___| (_)| |_   ___  ___          <br/>| |\\/| | / _` || |/ /| || '_ \\  / _` | \\___ \\ | || __| / _ \\/ __|         <br/>| |  | || (_| ||   < | || | | || (_| |  ___) || || |_ |  __/\\__ \\ _  _  _ <br/>|_|  |_| \\__,_||_|\\_\\|_||_| |_| \\__, | |____/ |_| \\__| \\___||___/(_)(_)(_)<br/>                                |___/                                     <br/></pre>"
      ],
      "text/plain": [
       "<IPython.core.display.HTML object>"
      ]
     },
     "metadata": {},
     "output_type": "display_data"
    },
    {
     "name": "stdout",
     "output_type": "stream",
     "text": [
      "INTERPRETER: << C:\\Users\\mikle\\AppData\\Roaming\\jupyterlab-desktop\\jlab_server\\python.exe >>\n",
      "SLICER: << C:\\Users\\mikle\\github\\blogslicer\\blogslicer\\core.py >>\n"
     ]
    },
    {
     "data": {
      "text/html": [
       "<pre style=\"white-space: pre;\">_  _ _ _  _ ____ ____ ___ ____ _    ____ _  _ ____ _  _  ____ ____ _  _ <br/>|\\/| | |_/  |___ |__|  |  |___ |    |___ |  | |___ |\\ |  |    |  | |\\/| <br/>|  | | | \\_ |___ |  |  |  |___ |___ |___  \\/  |___ | \\| .|___ |__| |  | <br/>                                                                        <br/></pre>"
      ],
      "text/plain": [
       "<IPython.core.display.HTML object>"
      ]
     },
     "metadata": {},
     "output_type": "display_data"
    },
    {
     "name": "stdout",
     "output_type": "stream",
     "text": [
      "C:\\Users\\mikle\\AppData\\Roaming\\jupyterlab-desktop\\jlab_server\\python.exe C:\\Users\\mikle\\github\\blogslicer\\blogslicer\\core.py -p C:\\Users\\mikle\\github\\MikeAtEleven.com -t \"Mike At Eleven\" -s \"blog\" -a \"Mike Levin\"\n",
      "\n",
      "C:\\Users\\mikle\\github\\MikeAtEleven.com/_posts/2022-06-06-post-23.md\n",
      "C:\\Users\\mikle\\github\\MikeAtEleven.com/_posts/2022-06-05-post-22.md\n",
      "C:\\Users\\mikle\\github\\MikeAtEleven.com/_posts/2022-05-07-post-21.md\n",
      "C:\\Users\\mikle\\github\\MikeAtEleven.com/_posts/2022-05-06-post-20.md\n",
      "C:\\Users\\mikle\\github\\MikeAtEleven.com/_posts/2022-05-05-post-19.md\n",
      "C:\\Users\\mikle\\github\\MikeAtEleven.com/_posts/2022-05-04-post-18.md\n",
      "C:\\Users\\mikle\\github\\MikeAtEleven.com/_posts/2022-05-04-post-17.md\n",
      "C:\\Users\\mikle\\github\\MikeAtEleven.com/_posts/2022-05-04-post-16.md\n",
      "C:\\Users\\mikle\\github\\MikeAtEleven.com/_posts/2022-05-04-post-15.md\n",
      "C:\\Users\\mikle\\github\\MikeAtEleven.com/_posts/2022-05-04-post-14.md\n",
      "C:\\Users\\mikle\\github\\MikeAtEleven.com/_posts/2022-05-04-post-13.md\n",
      "C:\\Users\\mikle\\github\\MikeAtEleven.com/_posts/2022-05-04-post-12.md\n",
      "C:\\Users\\mikle\\github\\MikeAtEleven.com/_posts/2022-05-03-post-11.md\n",
      "C:\\Users\\mikle\\github\\MikeAtEleven.com/_posts/2022-05-03-post-10.md\n",
      "C:\\Users\\mikle\\github\\MikeAtEleven.com/_posts/2022-05-03-post-9.md\n",
      "C:\\Users\\mikle\\github\\MikeAtEleven.com/_posts/2022-05-02-post-8.md\n",
      "C:\\Users\\mikle\\github\\MikeAtEleven.com/_posts/2022-04-20-post-7.md\n",
      "C:\\Users\\mikle\\github\\MikeAtEleven.com/_posts/2021-09-02-post-6.md\n",
      "C:\\Users\\mikle\\github\\MikeAtEleven.com/_posts/2021-08-26-post-5.md\n",
      "C:\\Users\\mikle\\github\\MikeAtEleven.com/_posts/2021-08-24-post-4.md\n",
      "C:\\Users\\mikle\\github\\MikeAtEleven.com/_posts/2021-08-23-post-3.md\n",
      "C:\\Users\\mikle\\github\\MikeAtEleven.com/_posts/2021-08-22-post-2.md\n",
      "C:\\Users\\mikle\\github\\MikeAtEleven.com/_posts/2021-08-20-post-1.md\n"
     ]
    },
    {
     "data": {
      "text/html": [
       "<pre style=\"white-space: pre;\">  ____  _  _    _             _              <br/> / ___|(_)| |_ | |__   _   _ | |__           <br/>| |  _ | || __|| '_ \\ | | | || '_ \\          <br/>| |_| || || |_ | | | || |_| || |_) | _  _  _ <br/> \\____||_| \\__||_| |_| \\__,_||_.__/ (_)(_)(_)<br/>                                             <br/></pre>"
      ],
      "text/plain": [
       "<IPython.core.display.HTML object>"
      ]
     },
     "metadata": {},
     "output_type": "display_data"
    },
    {
     "name": "stdout",
     "output_type": "stream",
     "text": [
      "COMMAND: << 'C:\\Program Files\\Git\\cmd\\git.exe' add '_posts/*' >>\n",
      "COMMAND: << 'C:\\Program Files\\Git\\cmd\\git.exe' add 'assets/images/*' >>\n",
      "COMMAND: << 'C:\\Program Files\\Git\\cmd\\git.exe' commit -am 'Pushing to Github...' >>\n",
      "On branch main\n",
      "Your branch is up to date with 'origin/main'.\n",
      "nothing to commit, working tree clean\n",
      "COMMAND: << 'C:\\Program Files\\Git\\cmd\\git.exe' push >>\n",
      "Everything up-to-date\n"
     ]
    },
    {
     "data": {
      "text/html": [
       "<pre style=\"white-space: pre;\"> ____                       _ <br/>|  _ \\   ___   _ __    ___ | |<br/>| | | | / _ \\ | '_ \\  / _ \\| |<br/>| |_| || (_) || | | ||  __/|_|<br/>|____/  \\___/ |_| |_| \\___|(_)<br/>                              <br/></pre>"
      ],
      "text/plain": [
       "<IPython.core.display.HTML object>"
      ]
     },
     "metadata": {},
     "output_type": "display_data"
    }
   ],
   "source": [
    "# export\n",
    "\n",
    "import os\n",
    "import sys\n",
    "import shlex\n",
    "import argparse\n",
    "import pandas as pd\n",
    "from pathlib import Path\n",
    "from art import text2art\n",
    "from collections import namedtuple\n",
    "from subprocess import Popen, PIPE\n",
    "\n",
    "\n",
    "if os.name == \"nt\":\n",
    "    git_exe = r\"C:\\Program Files\\Git\\cmd\\git.exe\"\n",
    "else:\n",
    "    git_exe = \"/usr/bin/git\"\n",
    "os.environ[\"GIT_PYTHON_GIT_EXECUTABLE\"] = git_exe\n",
    "\n",
    "lr = \"\\n\"\n",
    "python = sys.executable\n",
    "home = Path(os.path.expanduser(\"~\"))\n",
    "blogslicer = Path(home / Path(\"github/blogslicer/blogslicer/core.py\"))\n",
    "if hasattr(__builtins__, \"__IPYTHON__\") or __name__ != \"__main__\":\n",
    "    is_jupyter = True\n",
    "    from IPython.display import display, Markdown, HTML\n",
    "\n",
    "    file = \"sites.csv\"\n",
    "    apex = \"/mnt/c/Users/mikle/github/MikeAtEleven.com\"\n",
    "    # apex = \"\"\n",
    "else:\n",
    "    is_jupyter = False\n",
    "    aparser = argparse.ArgumentParser()\n",
    "    add_arg = aparser.add_argument\n",
    "    add_arg(\"-f\", \"--file\", required=True)\n",
    "    add_arg(\"-x\", \"--apex\", required=False)\n",
    "    args = aparser.parse_args()\n",
    "    file = args.file\n",
    "    apex = args.apex\n",
    "\n",
    "\n",
    "def fig(text, font=\"Standard\"):\n",
    "    if is_jupyter:\n",
    "        text_br = text2art(text, font=font).replace(lr, \"<br/>\")\n",
    "        text_html = f'<pre style=\"white-space: pre;\">{text_br}</pre>'\n",
    "        display(HTML(text_html))\n",
    "    else:\n",
    "        print(text2art(text, font))\n",
    "\n",
    "\n",
    "def flush(std):\n",
    "    for line in std:\n",
    "        line = line.strip()\n",
    "        if line:\n",
    "            print(line)\n",
    "            sys.stdout.flush()\n",
    "\n",
    "\n",
    "def git(cwd, args):\n",
    "    cmd = [git_exe] + shlex.split(args)\n",
    "    print(f\"COMMAND: << {shlex.join(cmd)} >>\")\n",
    "    process = Popen(\n",
    "        args=cmd,\n",
    "        cwd=cwd,\n",
    "        stdout=PIPE,\n",
    "        stderr=PIPE,\n",
    "        shell=False,\n",
    "        bufsize=1,\n",
    "        universal_newlines=True,\n",
    "    )\n",
    "    flush(process.stdout)\n",
    "    flush(process.stderr)\n",
    "\n",
    "fig(\"Making Sites...\")\n",
    "\n",
    "file_obj = Path(file)\n",
    "df = pd.read_csv(file_obj, delimiter=\"|\")\n",
    "df = df.applymap(lambda x: x.strip())\n",
    "df.columns = [x.strip() for x in df.columns]\n",
    "if apex:\n",
    "    apex = Path(apex).name\n",
    "    df = df[df[\"apex\"] == apex]\n",
    "Site = namedtuple(\"Site\", \"path, apex, title, gaid, tagline\")\n",
    "print(f\"INTERPRETER: << {python} >>\")\n",
    "print(f\"SLICER: << {blogslicer} >>\")\n",
    "for index, series in df.iterrows():\n",
    "    site = Site(**series.to_dict())\n",
    "    fig(site.apex, font=\"Cybermedium\")\n",
    "    here = Path(home / site.path)\n",
    "    [x.unlink() for x in Path(here / \"_posts/\").glob(\"*\")]\n",
    "    cmd = f'{python} {blogslicer} -p {here} -t \"{site.title}\" -s \"blog\" -a \"Mike Levin\"'\n",
    "    print(cmd, end=\"\\n\\n\")\n",
    "    with Popen(args=cmd, cwd=here, stdout=PIPE, stderr=PIPE, shell=True) as pout:\n",
    "        for line in pout.stdout.readlines():\n",
    "            print(line.decode().strip())\n",
    "    fig('Github...')\n",
    "    git(here, \"add _posts/*\")\n",
    "    git(here, \"add assets/images/*\")\n",
    "    git(here, 'commit -am \"Pushing to Github...\"')\n",
    "    git(here, \"push\")\n",
    "fig(\"Done!\")"
   ]
  },
  {
   "cell_type": "code",
   "execution_count": null,
   "id": "756fdb4a-9133-45fe-a0b2-fc2faaaa8a70",
   "metadata": {},
   "outputs": [
    {
     "name": "stdout",
     "output_type": "stream",
     "text": [
      "Converted 00_core.ipynb.\n",
      "Converted index.ipynb.\n"
     ]
    }
   ],
   "source": [
    "!nbdev_build_lib"
   ]
  },
  {
   "cell_type": "code",
   "execution_count": null,
   "id": "7a7267a7-1ab7-4bca-98a2-46799ab3c710",
   "metadata": {},
   "outputs": [],
   "source": [
    "!nbdev_clean_nbs"
   ]
  },
  {
   "cell_type": "code",
   "execution_count": null,
   "id": "081b5b49-5f14-4efe-8843-8c2e44b09e78",
   "metadata": {},
   "outputs": [],
   "source": []
  }
 ],
 "metadata": {
  "kernelspec": {
   "display_name": "Python 3 (ipykernel)",
   "language": "python",
   "name": "python3"
  }
 },
 "nbformat": 4,
 "nbformat_minor": 5
}
