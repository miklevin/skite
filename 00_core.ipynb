{
 "cells": [
  {
   "cell_type": "code",
   "execution_count": null,
   "id": "5581a6e4-9b75-48ab-81c2-31d34b539004",
   "metadata": {},
   "outputs": [
    {
     "name": "stdout",
     "output_type": "stream",
     "text": [
      "The lab_black extension is already loaded. To reload it, use:\n",
      "  %reload_ext lab_black\n"
     ]
    }
   ],
   "source": [
    "# default_exp core\n",
    "%load_ext lab_black"
   ]
  },
  {
   "cell_type": "code",
   "execution_count": null,
   "id": "8bab425a-742a-4289-b8c7-41b6ea6c1496",
   "metadata": {},
   "outputs": [],
   "source": [
    "# hide\n",
    "from nbdev.showdoc import *"
   ]
  },
  {
   "cell_type": "code",
   "execution_count": null,
   "id": "8c06fcd5-e381-438e-9fe7-b76d52c46f19",
   "metadata": {},
   "outputs": [
    {
     "data": {
      "text/html": [
       "<pre style=\"white-space: pre;\"> __  __         _     _                 ____   _  _                       <br/>|  \\/  |  __ _ | | __(_) _ __    __ _  / ___| (_)| |_   ___  ___          <br/>| |\\/| | / _` || |/ /| || '_ \\  / _` | \\___ \\ | || __| / _ \\/ __|         <br/>| |  | || (_| ||   < | || | | || (_| |  ___) || || |_ |  __/\\__ \\ _  _  _ <br/>|_|  |_| \\__,_||_|\\_\\|_||_| |_| \\__, | |____/ |_| \\__| \\___||___/(_)(_)(_)<br/>                                |___/                                     <br/></pre>"
      ],
      "text/plain": [
       "<IPython.core.display.HTML object>"
      ]
     },
     "metadata": {},
     "output_type": "display_data"
    },
    {
     "name": "stdout",
     "output_type": "stream",
     "text": [
      "INTERPRETER: C:\\Users\\mikle\\AppData\\Roaming\\jupyterlab-desktop\\jlab_server\\python.exe\n",
      "SLICER: C:\\Users\\mikle\\github\\blogslicer\\blogslicer\\core.py\n"
     ]
    },
    {
     "data": {
      "text/html": [
       "<pre style=\"white-space: pre;\">____ _  _ ____ ____ _ _    _    ____ ___ ____ ____ _  _  ____ ____ _  _ <br/>| __ |  | |___ |__/ | |    |    |__|  |  |___ |    |__|  |    |  | |\\/| <br/>|__] |__| |___ |  \\ | |___ |___ |  |  |  |___ |___ |  | .|___ |__| |  | <br/>                                                                        <br/></pre>"
      ],
      "text/plain": [
       "<IPython.core.display.HTML object>"
      ]
     },
     "metadata": {},
     "output_type": "display_data"
    },
    {
     "name": "stdout",
     "output_type": "stream",
     "text": [
      "C:\\Users\\mikle\\AppData\\Roaming\\jupyterlab-desktop\\jlab_server\\python.exe C:\\Users\\mikle\\github\\blogslicer\\blogslicer\\core.py -p C:\\Users\\mikle\\github\\GuerillaTech.com -t \"Guerilla Tech\" -s \"blog\" -a \"Mike Levin\"\n",
      "\n",
      "C:\\Users\\mikle\\github\\GuerillaTech.com/_posts/2022-04-22-post-1.md\n"
     ]
    },
    {
     "data": {
      "text/html": [
       "<pre style=\"white-space: pre;\">_    ____ _  _ _ _  _ _  _ _  _  ____ ____ _  _ <br/>|    |___ |  | | |\\ | |  |  \\/   |    |  | |\\/| <br/>|___ |___  \\/  | | \\| |__| _/\\_ .|___ |__| |  | <br/>                                                <br/></pre>"
      ],
      "text/plain": [
       "<IPython.core.display.HTML object>"
      ]
     },
     "metadata": {},
     "output_type": "display_data"
    },
    {
     "name": "stdout",
     "output_type": "stream",
     "text": [
      "C:\\Users\\mikle\\AppData\\Roaming\\jupyterlab-desktop\\jlab_server\\python.exe C:\\Users\\mikle\\github\\blogslicer\\blogslicer\\core.py -p C:\\Users\\mikle\\github\\Levinux.com -t \"Levinux\" -s \"blog\" -a \"Mike Levin\"\n",
      "\n",
      "C:\\Users\\mikle\\github\\Levinux.com/_posts/1970-01-01-post-1.md\n"
     ]
    },
    {
     "data": {
      "text/html": [
       "<pre style=\"white-space: pre;\">_    _ _  _ _  _ _  _ ___  _   _ ___ _  _ ____ _  _ _  _ _ _  _ ____ _ ___  ____ ____ _  _ <br/>|    | |\\ | |  |  \\/  |__]  \\_/   |  |__| |  | |\\ | |  | | |\\/| | __ |  |   |    |  | |\\/| <br/>|___ | | \\| |__| _/\\_ |      |    |  |  | |__| | \\|  \\/  | |  | |__] |  |  .|___ |__| |  | <br/>                                                                                           <br/></pre>"
      ],
      "text/plain": [
       "<IPython.core.display.HTML object>"
      ]
     },
     "metadata": {},
     "output_type": "display_data"
    },
    {
     "name": "stdout",
     "output_type": "stream",
     "text": [
      "C:\\Users\\mikle\\AppData\\Roaming\\jupyterlab-desktop\\jlab_server\\python.exe C:\\Users\\mikle\\github\\blogslicer\\blogslicer\\core.py -p C:\\Users\\mikle\\github\\LinuxPythonvimgit.com -t \"Linux, Python, vim & git\" -s \"blog\" -a \"Mike Levin\"\n",
      "\n",
      "C:\\Users\\mikle\\github\\LinuxPythonvimgit.com/_posts/2022-05-21-post-6.md\n",
      "C:\\Users\\mikle\\github\\LinuxPythonvimgit.com/_posts/2022-05-21-post-5.md\n",
      "C:\\Users\\mikle\\github\\LinuxPythonvimgit.com/_posts/2022-05-20-post-4.md\n",
      "C:\\Users\\mikle\\github\\LinuxPythonvimgit.com/_posts/2022-05-02-post-3.md\n",
      "C:\\Users\\mikle\\github\\LinuxPythonvimgit.com/_posts/2022-05-01-post-2.md\n",
      "C:\\Users\\mikle\\github\\LinuxPythonvimgit.com/_posts/2022-04-21-post-1.md\n"
     ]
    },
    {
     "data": {
      "text/html": [
       "<pre style=\"white-space: pre;\">_    _  _ _  _ ___  ____ ____ _  _ ____ _  _ ___   ____ ____ _  _ <br/>|    |  | |\\ | |  \\ |___ |__/ |  | |__| |\\ | |  \\  |    |  | |\\/| <br/>|___ |__| | \\| |__/ |___ |  \\  \\/  |  | | \\| |__/ .|___ |__| |  | <br/>                                                                  <br/></pre>"
      ],
      "text/plain": [
       "<IPython.core.display.HTML object>"
      ]
     },
     "metadata": {},
     "output_type": "display_data"
    },
    {
     "name": "stdout",
     "output_type": "stream",
     "text": [
      "C:\\Users\\mikle\\AppData\\Roaming\\jupyterlab-desktop\\jlab_server\\python.exe C:\\Users\\mikle\\github\\blogslicer\\blogslicer\\core.py -p C:\\Users\\mikle\\github\\LunderVand.com -t \"LunderVand\" -s \"blog\" -a \"Mike Levin\"\n",
      "\n",
      "C:\\Users\\mikle\\github\\LunderVand.com/_posts/2022-04-22-post-1.md\n"
     ]
    },
    {
     "data": {
      "text/html": [
       "<pre style=\"white-space: pre;\">_  _ _ _  _ ____    _    ____ _  _ _ _  _  ____ ____ _  _ <br/>|\\/| | |_/  |___ __ |    |___ |  | | |\\ |  |    |  | |\\/| <br/>|  | | | \\_ |___    |___ |___  \\/  | | \\| .|___ |__| |  | <br/>                                                          <br/></pre>"
      ],
      "text/plain": [
       "<IPython.core.display.HTML object>"
      ]
     },
     "metadata": {},
     "output_type": "display_data"
    },
    {
     "name": "stdout",
     "output_type": "stream",
     "text": [
      "C:\\Users\\mikle\\AppData\\Roaming\\jupyterlab-desktop\\jlab_server\\python.exe C:\\Users\\mikle\\github\\blogslicer\\blogslicer\\core.py -p C:\\Users\\mikle\\github\\Mike-Levin.com -t \"Mike Levin Dot Com\" -s \"blog\" -a \"Mike Levin\"\n",
      "\n",
      "C:\\Users\\mikle\\github\\Mike-Levin.com/_posts/2022-04-22-post-1.md\n"
     ]
    },
    {
     "data": {
      "text/html": [
       "<pre style=\"white-space: pre;\">_  _ _ _  _ ____ ____ ___ ____ _    ____ _  _ ____ _  _  ____ ____ _  _ <br/>|\\/| | |_/  |___ |__|  |  |___ |    |___ |  | |___ |\\ |  |    |  | |\\/| <br/>|  | | | \\_ |___ |  |  |  |___ |___ |___  \\/  |___ | \\| .|___ |__| |  | <br/>                                                                        <br/></pre>"
      ],
      "text/plain": [
       "<IPython.core.display.HTML object>"
      ]
     },
     "metadata": {},
     "output_type": "display_data"
    },
    {
     "name": "stdout",
     "output_type": "stream",
     "text": [
      "C:\\Users\\mikle\\AppData\\Roaming\\jupyterlab-desktop\\jlab_server\\python.exe C:\\Users\\mikle\\github\\blogslicer\\blogslicer\\core.py -p C:\\Users\\mikle\\github\\MikeAtEleven.com -t \"Mike At Eleven\" -s \"blog\" -a \"Mike Levin\"\n",
      "\n",
      "C:\\Users\\mikle\\github\\MikeAtEleven.com/_posts/2022-06-06-post-23.md\n",
      "C:\\Users\\mikle\\github\\MikeAtEleven.com/_posts/2022-06-05-post-22.md\n",
      "C:\\Users\\mikle\\github\\MikeAtEleven.com/_posts/2022-05-07-post-21.md\n",
      "C:\\Users\\mikle\\github\\MikeAtEleven.com/_posts/2022-05-06-post-20.md\n",
      "C:\\Users\\mikle\\github\\MikeAtEleven.com/_posts/2022-05-05-post-19.md\n",
      "C:\\Users\\mikle\\github\\MikeAtEleven.com/_posts/2022-05-04-post-18.md\n",
      "C:\\Users\\mikle\\github\\MikeAtEleven.com/_posts/2022-05-04-post-17.md\n",
      "C:\\Users\\mikle\\github\\MikeAtEleven.com/_posts/2022-05-04-post-16.md\n",
      "C:\\Users\\mikle\\github\\MikeAtEleven.com/_posts/2022-05-04-post-15.md\n",
      "C:\\Users\\mikle\\github\\MikeAtEleven.com/_posts/2022-05-04-post-14.md\n",
      "C:\\Users\\mikle\\github\\MikeAtEleven.com/_posts/2022-05-04-post-13.md\n",
      "C:\\Users\\mikle\\github\\MikeAtEleven.com/_posts/2022-05-04-post-12.md\n",
      "C:\\Users\\mikle\\github\\MikeAtEleven.com/_posts/2022-05-03-post-11.md\n",
      "C:\\Users\\mikle\\github\\MikeAtEleven.com/_posts/2022-05-03-post-10.md\n",
      "C:\\Users\\mikle\\github\\MikeAtEleven.com/_posts/2022-05-03-post-9.md\n",
      "C:\\Users\\mikle\\github\\MikeAtEleven.com/_posts/2022-05-02-post-8.md\n",
      "C:\\Users\\mikle\\github\\MikeAtEleven.com/_posts/2022-04-20-post-7.md\n",
      "C:\\Users\\mikle\\github\\MikeAtEleven.com/_posts/2021-09-02-post-6.md\n",
      "C:\\Users\\mikle\\github\\MikeAtEleven.com/_posts/2021-08-26-post-5.md\n",
      "C:\\Users\\mikle\\github\\MikeAtEleven.com/_posts/2021-08-24-post-4.md\n",
      "C:\\Users\\mikle\\github\\MikeAtEleven.com/_posts/2021-08-23-post-3.md\n",
      "C:\\Users\\mikle\\github\\MikeAtEleven.com/_posts/2021-08-22-post-2.md\n",
      "C:\\Users\\mikle\\github\\MikeAtEleven.com/_posts/2021-08-20-post-1.md\n"
     ]
    },
    {
     "data": {
      "text/html": [
       "<pre style=\"white-space: pre;\">_  _ _ _  _ ____ _    ____ _  _  _ _  _ <br/>|\\/| | |_/  |___ |    |___ |  |  | |\\ | <br/>|  | | | \\_ |___ |___ |___  \\/  .| | \\| <br/>                                        <br/></pre>"
      ],
      "text/plain": [
       "<IPython.core.display.HTML object>"
      ]
     },
     "metadata": {},
     "output_type": "display_data"
    },
    {
     "name": "stdout",
     "output_type": "stream",
     "text": [
      "C:\\Users\\mikle\\AppData\\Roaming\\jupyterlab-desktop\\jlab_server\\python.exe C:\\Users\\mikle\\github\\blogslicer\\blogslicer\\core.py -p C:\\Users\\mikle\\github\\MikeLev.in -t \"Mike Levin\" -s \"blog\" -a \"Mike Levin\"\n",
      "\n",
      "C:\\Users\\mikle\\github\\MikeLev.in/_posts/2022-06-18-post-140.md\n",
      "C:\\Users\\mikle\\github\\MikeLev.in/_posts/2022-06-17-post-139.md\n",
      "C:\\Users\\mikle\\github\\MikeLev.in/_posts/2022-06-16-post-138.md\n",
      "C:\\Users\\mikle\\github\\MikeLev.in/_posts/2022-06-16-post-137.md\n",
      "C:\\Users\\mikle\\github\\MikeLev.in/_posts/2022-06-15-post-136.md\n",
      "C:\\Users\\mikle\\github\\MikeLev.in/_posts/2022-06-15-post-135.md\n",
      "C:\\Users\\mikle\\github\\MikeLev.in/_posts/2022-06-15-post-134.md\n",
      "C:\\Users\\mikle\\github\\MikeLev.in/_posts/2022-06-15-post-133.md\n",
      "C:\\Users\\mikle\\github\\MikeLev.in/_posts/2022-06-14-post-132.md\n",
      "C:\\Users\\mikle\\github\\MikeLev.in/_posts/2022-06-14-post-131.md\n",
      "C:\\Users\\mikle\\github\\MikeLev.in/_posts/2022-06-14-post-130.md\n",
      "C:\\Users\\mikle\\github\\MikeLev.in/_posts/2022-06-13-post-129.md\n",
      "C:\\Users\\mikle\\github\\MikeLev.in/_posts/2022-06-12-post-128.md\n",
      "C:\\Users\\mikle\\github\\MikeLev.in/_posts/2022-06-11-post-127.md\n",
      "C:\\Users\\mikle\\github\\MikeLev.in/_posts/2022-06-10-post-126.md\n",
      "C:\\Users\\mikle\\github\\MikeLev.in/_posts/2022-06-10-post-125.md\n",
      "C:\\Users\\mikle\\github\\MikeLev.in/_posts/2022-06-09-post-124.md\n",
      "C:\\Users\\mikle\\github\\MikeLev.in/_posts/2022-06-09-post-123.md\n",
      "C:\\Users\\mikle\\github\\MikeLev.in/_posts/2022-06-08-post-122.md\n",
      "C:\\Users\\mikle\\github\\MikeLev.in/_posts/2022-06-08-post-121.md\n",
      "C:\\Users\\mikle\\github\\MikeLev.in/_posts/2022-06-08-post-120.md\n",
      "C:\\Users\\mikle\\github\\MikeLev.in/_posts/2022-06-07-post-119.md\n",
      "C:\\Users\\mikle\\github\\MikeLev.in/_posts/2022-06-07-post-118.md\n",
      "C:\\Users\\mikle\\github\\MikeLev.in/_posts/2022-06-07-post-117.md\n",
      "C:\\Users\\mikle\\github\\MikeLev.in/_posts/2022-06-03-post-116.md\n",
      "C:\\Users\\mikle\\github\\MikeLev.in/_posts/2022-06-01-post-115.md\n",
      "C:\\Users\\mikle\\github\\MikeLev.in/_posts/2022-06-01-post-114.md\n",
      "C:\\Users\\mikle\\github\\MikeLev.in/_posts/2022-05-31-post-113.md\n",
      "C:\\Users\\mikle\\github\\MikeLev.in/_posts/2022-05-31-post-112.md\n",
      "C:\\Users\\mikle\\github\\MikeLev.in/_posts/2022-05-31-post-111.md\n",
      "C:\\Users\\mikle\\github\\MikeLev.in/_posts/2022-05-30-post-110.md\n",
      "C:\\Users\\mikle\\github\\MikeLev.in/_posts/2022-05-30-post-109.md\n",
      "C:\\Users\\mikle\\github\\MikeLev.in/_posts/2022-05-29-post-108.md\n",
      "C:\\Users\\mikle\\github\\MikeLev.in/_posts/2022-05-29-post-107.md\n",
      "C:\\Users\\mikle\\github\\MikeLev.in/_posts/2022-05-28-post-106.md\n",
      "C:\\Users\\mikle\\github\\MikeLev.in/_posts/2022-05-28-post-105.md\n",
      "C:\\Users\\mikle\\github\\MikeLev.in/_posts/2022-05-27-post-104.md\n",
      "C:\\Users\\mikle\\github\\MikeLev.in/_posts/2022-05-26-post-103.md\n",
      "C:\\Users\\mikle\\github\\MikeLev.in/_posts/2022-05-26-post-102.md\n",
      "C:\\Users\\mikle\\github\\MikeLev.in/_posts/2022-05-25-post-101.md\n",
      "C:\\Users\\mikle\\github\\MikeLev.in/_posts/2022-05-25-post-100.md\n",
      "C:\\Users\\mikle\\github\\MikeLev.in/_posts/2022-05-25-post-99.md\n",
      "C:\\Users\\mikle\\github\\MikeLev.in/_posts/2022-05-23-post-98.md\n",
      "C:\\Users\\mikle\\github\\MikeLev.in/_posts/2022-05-23-post-97.md\n",
      "C:\\Users\\mikle\\github\\MikeLev.in/_posts/2022-05-22-post-96.md\n",
      "C:\\Users\\mikle\\github\\MikeLev.in/_posts/2022-05-21-post-95.md\n",
      "C:\\Users\\mikle\\github\\MikeLev.in/_posts/2022-05-20-post-94.md\n",
      "C:\\Users\\mikle\\github\\MikeLev.in/_posts/2022-05-20-post-93.md\n",
      "C:\\Users\\mikle\\github\\MikeLev.in/_posts/2022-05-19-post-92.md\n",
      "C:\\Users\\mikle\\github\\MikeLev.in/_posts/2022-05-19-post-91.md\n",
      "C:\\Users\\mikle\\github\\MikeLev.in/_posts/2022-05-19-post-90.md\n",
      "C:\\Users\\mikle\\github\\MikeLev.in/_posts/2022-05-18-post-89.md\n",
      "C:\\Users\\mikle\\github\\MikeLev.in/_posts/2022-05-18-post-88.md\n",
      "C:\\Users\\mikle\\github\\MikeLev.in/_posts/2022-05-18-post-87.md\n",
      "C:\\Users\\mikle\\github\\MikeLev.in/_posts/2022-05-17-post-86.md\n",
      "C:\\Users\\mikle\\github\\MikeLev.in/_posts/2022-05-17-post-85.md\n",
      "C:\\Users\\mikle\\github\\MikeLev.in/_posts/2022-05-16-post-84.md\n",
      "C:\\Users\\mikle\\github\\MikeLev.in/_posts/2022-05-16-post-83.md\n",
      "C:\\Users\\mikle\\github\\MikeLev.in/_posts/2022-05-16-post-82.md\n",
      "C:\\Users\\mikle\\github\\MikeLev.in/_posts/2022-05-15-post-81.md\n",
      "C:\\Users\\mikle\\github\\MikeLev.in/_posts/2022-05-13-post-80.md\n",
      "C:\\Users\\mikle\\github\\MikeLev.in/_posts/2022-05-13-post-79.md\n",
      "C:\\Users\\mikle\\github\\MikeLev.in/_posts/2022-05-13-post-78.md\n",
      "C:\\Users\\mikle\\github\\MikeLev.in/_posts/2022-05-13-post-77.md\n",
      "C:\\Users\\mikle\\github\\MikeLev.in/_posts/2022-05-13-post-76.md\n",
      "C:\\Users\\mikle\\github\\MikeLev.in/_posts/2022-05-11-post-75.md\n",
      "C:\\Users\\mikle\\github\\MikeLev.in/_posts/2022-05-10-post-74.md\n",
      "C:\\Users\\mikle\\github\\MikeLev.in/_posts/2022-05-10-post-73.md\n",
      "C:\\Users\\mikle\\github\\MikeLev.in/_posts/2022-05-08-post-72.md\n",
      "C:\\Users\\mikle\\github\\MikeLev.in/_posts/2022-05-08-post-71.md\n",
      "C:\\Users\\mikle\\github\\MikeLev.in/_posts/2022-05-08-post-70.md\n",
      "C:\\Users\\mikle\\github\\MikeLev.in/_posts/2022-05-07-post-69.md\n",
      "C:\\Users\\mikle\\github\\MikeLev.in/_posts/2022-05-07-post-68.md\n",
      "C:\\Users\\mikle\\github\\MikeLev.in/_posts/2022-05-07-post-67.md\n",
      "C:\\Users\\mikle\\github\\MikeLev.in/_posts/2022-05-07-post-66.md\n",
      "C:\\Users\\mikle\\github\\MikeLev.in/_posts/2022-05-06-post-65.md\n",
      "C:\\Users\\mikle\\github\\MikeLev.in/_posts/2022-05-06-post-64.md\n",
      "C:\\Users\\mikle\\github\\MikeLev.in/_posts/2022-05-05-post-63.md\n",
      "C:\\Users\\mikle\\github\\MikeLev.in/_posts/2022-05-05-post-62.md\n",
      "C:\\Users\\mikle\\github\\MikeLev.in/_posts/2022-05-05-post-61.md\n",
      "C:\\Users\\mikle\\github\\MikeLev.in/_posts/2022-05-05-post-60.md\n",
      "C:\\Users\\mikle\\github\\MikeLev.in/_posts/2022-05-04-post-59.md\n",
      "C:\\Users\\mikle\\github\\MikeLev.in/_posts/2022-05-04-post-58.md\n",
      "C:\\Users\\mikle\\github\\MikeLev.in/_posts/2022-05-04-post-57.md\n",
      "C:\\Users\\mikle\\github\\MikeLev.in/_posts/2022-05-04-post-56.md\n",
      "C:\\Users\\mikle\\github\\MikeLev.in/_posts/2022-05-03-post-55.md\n",
      "C:\\Users\\mikle\\github\\MikeLev.in/_posts/2022-05-02-post-54.md\n",
      "C:\\Users\\mikle\\github\\MikeLev.in/_posts/2022-05-02-post-53.md\n",
      "C:\\Users\\mikle\\github\\MikeLev.in/_posts/2022-05-02-post-52.md\n",
      "C:\\Users\\mikle\\github\\MikeLev.in/_posts/2022-05-01-post-51.md\n",
      "C:\\Users\\mikle\\github\\MikeLev.in/_posts/2022-05-01-post-50.md\n",
      "C:\\Users\\mikle\\github\\MikeLev.in/_posts/2022-05-01-post-49.md\n",
      "C:\\Users\\mikle\\github\\MikeLev.in/_posts/2022-05-01-post-48.md\n",
      "C:\\Users\\mikle\\github\\MikeLev.in/_posts/2022-05-01-post-47.md\n",
      "C:\\Users\\mikle\\github\\MikeLev.in/_posts/2022-05-01-post-46.md\n",
      "C:\\Users\\mikle\\github\\MikeLev.in/_posts/2022-05-01-post-45.md\n",
      "C:\\Users\\mikle\\github\\MikeLev.in/_posts/2022-05-01-post-44.md\n",
      "C:\\Users\\mikle\\github\\MikeLev.in/_posts/2022-04-30-post-43.md\n",
      "C:\\Users\\mikle\\github\\MikeLev.in/_posts/2022-04-30-post-42.md\n",
      "C:\\Users\\mikle\\github\\MikeLev.in/_posts/2022-04-30-post-41.md\n",
      "C:\\Users\\mikle\\github\\MikeLev.in/_posts/2022-04-30-post-40.md\n",
      "C:\\Users\\mikle\\github\\MikeLev.in/_posts/2022-04-30-post-39.md\n",
      "C:\\Users\\mikle\\github\\MikeLev.in/_posts/2022-04-29-post-38.md\n",
      "C:\\Users\\mikle\\github\\MikeLev.in/_posts/2022-04-29-post-37.md\n",
      "C:\\Users\\mikle\\github\\MikeLev.in/_posts/2022-04-29-post-36.md\n",
      "C:\\Users\\mikle\\github\\MikeLev.in/_posts/2022-04-29-post-35.md\n",
      "C:\\Users\\mikle\\github\\MikeLev.in/_posts/2022-04-28-post-34.md\n",
      "C:\\Users\\mikle\\github\\MikeLev.in/_posts/2022-04-27-post-33.md\n",
      "C:\\Users\\mikle\\github\\MikeLev.in/_posts/2022-04-27-post-32.md\n",
      "C:\\Users\\mikle\\github\\MikeLev.in/_posts/2022-04-26-post-31.md\n",
      "C:\\Users\\mikle\\github\\MikeLev.in/_posts/2022-04-26-post-30.md\n",
      "C:\\Users\\mikle\\github\\MikeLev.in/_posts/2022-04-25-post-29.md\n",
      "C:\\Users\\mikle\\github\\MikeLev.in/_posts/2022-04-23-post-28.md\n",
      "C:\\Users\\mikle\\github\\MikeLev.in/_posts/2022-04-23-post-27.md\n",
      "C:\\Users\\mikle\\github\\MikeLev.in/_posts/2022-04-22-post-26.md\n",
      "C:\\Users\\mikle\\github\\MikeLev.in/_posts/2022-04-22-post-25.md\n",
      "C:\\Users\\mikle\\github\\MikeLev.in/_posts/2022-04-21-post-24.md\n",
      "C:\\Users\\mikle\\github\\MikeLev.in/_posts/2022-04-21-post-23.md\n",
      "C:\\Users\\mikle\\github\\MikeLev.in/_posts/2022-04-15-post-22.md\n",
      "C:\\Users\\mikle\\github\\MikeLev.in/_posts/2022-04-15-post-21.md\n",
      "C:\\Users\\mikle\\github\\MikeLev.in/_posts/2022-04-13-post-20.md\n",
      "C:\\Users\\mikle\\github\\MikeLev.in/_posts/2022-04-10-post-19.md\n",
      "C:\\Users\\mikle\\github\\MikeLev.in/_posts/2022-04-09-post-18.md\n",
      "C:\\Users\\mikle\\github\\MikeLev.in/_posts/2022-04-08-post-17.md\n",
      "C:\\Users\\mikle\\github\\MikeLev.in/_posts/2022-04-07-post-16.md\n",
      "C:\\Users\\mikle\\github\\MikeLev.in/_posts/2022-02-21-post-15.md\n",
      "C:\\Users\\mikle\\github\\MikeLev.in/_posts/2022-02-18-post-14.md\n",
      "C:\\Users\\mikle\\github\\MikeLev.in/_posts/2022-02-17-post-13.md\n",
      "C:\\Users\\mikle\\github\\MikeLev.in/_posts/2022-02-16-post-12.md\n",
      "C:\\Users\\mikle\\github\\MikeLev.in/_posts/2022-02-15-post-11.md\n",
      "C:\\Users\\mikle\\github\\MikeLev.in/_posts/2021-11-14-post-10.md\n",
      "C:\\Users\\mikle\\github\\MikeLev.in/_posts/2021-08-30-post-9.md\n",
      "C:\\Users\\mikle\\github\\MikeLev.in/_posts/2021-08-26-post-8.md\n",
      "C:\\Users\\mikle\\github\\MikeLev.in/_posts/2021-08-24-post-7.md\n",
      "C:\\Users\\mikle\\github\\MikeLev.in/_posts/2021-08-20-post-6.md\n",
      "C:\\Users\\mikle\\github\\MikeLev.in/_posts/2021-08-20-post-5.md\n",
      "C:\\Users\\mikle\\github\\MikeLev.in/_posts/2021-08-20-post-4.md\n",
      "C:\\Users\\mikle\\github\\MikeLev.in/_posts/2021-08-06-post-3.md\n",
      "C:\\Users\\mikle\\github\\MikeLev.in/_posts/2021-08-05-post-2.md\n"
     ]
    },
    {
     "data": {
      "text/html": [
       "<pre style=\"white-space: pre;\">_  _ _ _  _ ____ _    ____ _  _ _ _  _ ____ ____ ____  ____ ____ _  _ <br/>|\\/| | |_/  |___ |    |___ |  | | |\\ | [__  |___ |  |  |    |  | |\\/| <br/>|  | | | \\_ |___ |___ |___  \\/  | | \\| ___] |___ |__| .|___ |__| |  | <br/>                                                                      <br/></pre>"
      ],
      "text/plain": [
       "<IPython.core.display.HTML object>"
      ]
     },
     "metadata": {},
     "output_type": "display_data"
    },
    {
     "name": "stdout",
     "output_type": "stream",
     "text": [
      "C:\\Users\\mikle\\AppData\\Roaming\\jupyterlab-desktop\\jlab_server\\python.exe C:\\Users\\mikle\\github\\blogslicer\\blogslicer\\core.py -p C:\\Users\\mikle\\github\\MikeLevinSEO.com -t \"Mike Levin SEO\" -s \"blog\" -a \"Mike Levin\"\n",
      "\n"
     ]
    },
    {
     "data": {
      "text/html": [
       "<pre style=\"white-space: pre;\">___  _ ___  _  _ _    ____ ___ ____  ____ ____ _  _ <br/>|__] | |__] |  | |    |__|  |  |___  |    |  | |\\/| <br/>|    | |    |__| |___ |  |  |  |___ .|___ |__| |  | <br/>                                                    <br/></pre>"
      ],
      "text/plain": [
       "<IPython.core.display.HTML object>"
      ]
     },
     "metadata": {},
     "output_type": "display_data"
    },
    {
     "name": "stdout",
     "output_type": "stream",
     "text": [
      "C:\\Users\\mikle\\AppData\\Roaming\\jupyterlab-desktop\\jlab_server\\python.exe C:\\Users\\mikle\\github\\blogslicer\\blogslicer\\core.py -p C:\\Users\\mikle\\github\\Pipulate.com -t \"Pipulate\" -s \"blog\" -a \"Mike Levin\"\n",
      "\n",
      "C:\\Users\\mikle\\github\\Pipulate.com/_posts/2022-04-22-post-1.md\n"
     ]
    },
    {
     "data": {
      "text/html": [
       "<pre style=\"white-space: pre;\">___  _   _ ___ _  _ ____ _  _ _ ____ ____ _    _    _   _  ____ ____ _  _ <br/>|__]  \\_/   |  |__| |  | |\\ | | |    |__| |    |     \\_/   |    |  | |\\/| <br/>|      |    |  |  | |__| | \\| | |___ |  | |___ |___   |   .|___ |__| |  | <br/>                                                                          <br/></pre>"
      ],
      "text/plain": [
       "<IPython.core.display.HTML object>"
      ]
     },
     "metadata": {},
     "output_type": "display_data"
    },
    {
     "name": "stdout",
     "output_type": "stream",
     "text": [
      "C:\\Users\\mikle\\AppData\\Roaming\\jupyterlab-desktop\\jlab_server\\python.exe C:\\Users\\mikle\\github\\blogslicer\\blogslicer\\core.py -p C:\\Users\\mikle\\github\\PythonicAlly.com -t \"Pythonically\" -s \"blog\" -a \"Mike Levin\"\n",
      "\n",
      "C:\\Users\\mikle\\github\\PythonicAlly.com/_posts/2022-04-28-post-1.md\n"
     ]
    },
    {
     "data": {
      "text/html": [
       "<pre style=\"white-space: pre;\">___  _   _ ___ _  _ ____ _  _ _ ____ ____ _    _    _   _  ____ ____ ____ <br/>|__]  \\_/   |  |__| |  | |\\ | | |    |__| |    |     \\_/   |  | |__/ | __ <br/>|      |    |  |  | |__| | \\| | |___ |  | |___ |___   |   .|__| |  \\ |__] <br/>                                                                          <br/></pre>"
      ],
      "text/plain": [
       "<IPython.core.display.HTML object>"
      ]
     },
     "metadata": {},
     "output_type": "display_data"
    },
    {
     "name": "stdout",
     "output_type": "stream",
     "text": [
      "C:\\Users\\mikle\\AppData\\Roaming\\jupyterlab-desktop\\jlab_server\\python.exe C:\\Users\\mikle\\github\\blogslicer\\blogslicer\\core.py -p C:\\Users\\mikle\\github\\PythonicAlly.org -t \"Your Pythonic Ally\" -s \"blog\" -a \"Mike Levin\"\n",
      "\n",
      "C:\\Users\\mikle\\github\\PythonicAlly.org/_posts/1970-01-01-post-1.md\n"
     ]
    },
    {
     "data": {
      "text/html": [
       "<pre style=\"white-space: pre;\">____ ____ _  _ ____ _  _ ____ ___  _    ____ ____ _ _  _ ____ ____ ____  ____ ____ _  _ <br/>|__/ |___ |\\/| |  | |  | |__| |__] |    |___ |___ | |\\ | | __ |___ |__/  |    |  | |\\/| <br/>|  \\ |___ |  | |__|  \\/  |  | |__] |___ |___ |    | | \\| |__] |___ |  \\ .|___ |__| |  | <br/>                                                                                        <br/></pre>"
      ],
      "text/plain": [
       "<IPython.core.display.HTML object>"
      ]
     },
     "metadata": {},
     "output_type": "display_data"
    },
    {
     "name": "stdout",
     "output_type": "stream",
     "text": [
      "C:\\Users\\mikle\\AppData\\Roaming\\jupyterlab-desktop\\jlab_server\\python.exe C:\\Users\\mikle\\github\\blogslicer\\blogslicer\\core.py -p C:\\Users\\mikle\\github\\RemovableFinger.com -t \"Removable Finger\" -s \"blog\" -a \"Mike Levin\"\n",
      "\n",
      "C:\\Users\\mikle\\github\\RemovableFinger.com/_posts/2022-05-01-post-1.md\n"
     ]
    },
    {
     "data": {
      "text/html": [
       "<pre style=\"white-space: pre;\">___ ____ ____ ___  _ ____ ____ ____ ___  ____ ____ _ ____ ____ _  _ ____  ____ ____ _  _ <br/> |  |__| |__/ |  \\ | | __ |__/ |__| |  \\ |___ |    | |__/ |    |  | [__   |    |  | |\\/| <br/> |  |  | |  \\ |__/ | |__] |  \\ |  | |__/ |___ |___ | |  \\ |___ |__| ___] .|___ |__| |  | <br/>                                                                                         <br/></pre>"
      ],
      "text/plain": [
       "<IPython.core.display.HTML object>"
      ]
     },
     "metadata": {},
     "output_type": "display_data"
    },
    {
     "name": "stdout",
     "output_type": "stream",
     "text": [
      "C:\\Users\\mikle\\AppData\\Roaming\\jupyterlab-desktop\\jlab_server\\python.exe C:\\Users\\mikle\\github\\blogslicer\\blogslicer\\core.py -p C:\\Users\\mikle\\github\\TardigradeCircus.com -t \"Tardigrade Circus\" -s \"blog\" -a \"Mike Levin\"\n",
      "\n",
      "C:\\Users\\mikle\\github\\TardigradeCircus.com/_posts/2022-04-22-post-1.md\n"
     ]
    },
    {
     "data": {
      "text/html": [
       "<pre style=\"white-space: pre;\">___ _ ____ ___ ____ ____ _  _ ____ ____ ____ _ ____ _  _ ___ _ _  _ ____ ____  ____ ____ _  _ <br/> |  | |     |  |__| |    |  | |___ |  | [__  | | __ |__|  |  | |\\ | | __ [__   |    |  | |\\/| <br/> |  | |___  |  |  | |___ |__| |    |__| ___] | |__] |  |  |  | | \\| |__] ___] .|___ |__| |  | <br/>                                                                                              <br/></pre>"
      ],
      "text/plain": [
       "<IPython.core.display.HTML object>"
      ]
     },
     "metadata": {},
     "output_type": "display_data"
    },
    {
     "name": "stdout",
     "output_type": "stream",
     "text": [
      "C:\\Users\\mikle\\AppData\\Roaming\\jupyterlab-desktop\\jlab_server\\python.exe C:\\Users\\mikle\\github\\blogslicer\\blogslicer\\core.py -p C:\\Users\\mikle\\github\\TicTacUFOSightings.com -t \"Tic Tac UFO Sightings\" -s \"blog\" -a \"Mike Levin\"\n",
      "\n",
      "C:\\Users\\mikle\\github\\TicTacUFOSightings.com/_posts/1970-01-01-post-1.md\n"
     ]
    },
    {
     "data": {
      "text/html": [
       "<pre style=\"white-space: pre;\">_ _ _ ____ ____ _  _ _    _   _ ____ ____ ___  ____ ____ ___ ____  ___  ___  <br/>| | | |___ |___ |_/  |     \\_/  |__/ |___ |__] |  | |__/  |  [__     /  |  \\ <br/>|_|_| |___ |___ | \\_ |___   |   |  \\ |___ |    |__| |  \\  |  ___] . /__ |__/ <br/>                                                                             <br/></pre>"
      ],
      "text/plain": [
       "<IPython.core.display.HTML object>"
      ]
     },
     "metadata": {},
     "output_type": "display_data"
    },
    {
     "name": "stdout",
     "output_type": "stream",
     "text": [
      "C:\\Users\\mikle\\AppData\\Roaming\\jupyterlab-desktop\\jlab_server\\python.exe C:\\Users\\mikle\\github\\blogslicer\\blogslicer\\core.py -p C:\\Users\\mikle\\github\\WeeklyReports.zd -t \"Mike Levin's Weekly Reports\" -s \"blog\" -a \"Mike Levin\"\n",
      "\n",
      "C:\\Users\\mikle\\github\\WeeklyReports.zd/_posts/2022-05-07-post-2.md\n",
      "C:\\Users\\mikle\\github\\WeeklyReports.zd/_posts/2022-05-14-post-1.md\n"
     ]
    },
    {
     "data": {
      "text/html": [
       "<pre style=\"white-space: pre;\">_ _ _ _  _ ____ ___ ____ ____ _  _ ____ ___ ____ ____ ____ ____  _ ____ <br/>| | | |__| |__|  |  [__  |__| |\\/| |___  |  |__| |___ |  | |__/  | |  | <br/>|_|_| |  | |  |  |  ___] |  | |  | |___  |  |  | |    |__| |  \\ .| |__| <br/>                                                                        <br/></pre>"
      ],
      "text/plain": [
       "<IPython.core.display.HTML object>"
      ]
     },
     "metadata": {},
     "output_type": "display_data"
    },
    {
     "name": "stdout",
     "output_type": "stream",
     "text": [
      "C:\\Users\\mikle\\AppData\\Roaming\\jupyterlab-desktop\\jlab_server\\python.exe C:\\Users\\mikle\\github\\blogslicer\\blogslicer\\core.py -p C:\\Users\\mikle\\github\\WhatsaMetaFor.io -t \"What's A Meta For\" -s \"blog\" -a \"Mike Levin\"\n",
      "\n",
      "C:\\Users\\mikle\\github\\WhatsaMetaFor.io/_posts/2022-05-07-post-4.md\n",
      "C:\\Users\\mikle\\github\\WhatsaMetaFor.io/_posts/2022-05-06-post-3.md\n",
      "C:\\Users\\mikle\\github\\WhatsaMetaFor.io/_posts/2022-05-03-post-2.md\n",
      "C:\\Users\\mikle\\github\\WhatsaMetaFor.io/_posts/2022-04-30-post-1.md\n"
     ]
    },
    {
     "data": {
      "text/markdown": [
       "## Done!"
      ],
      "text/plain": [
       "<IPython.core.display.Markdown object>"
      ]
     },
     "metadata": {},
     "output_type": "display_data"
    }
   ],
   "source": [
    "# export\n",
    "\n",
    "import os\n",
    "import sys\n",
    "import shlex\n",
    "import argparse\n",
    "import pandas as pd\n",
    "from git import Repo\n",
    "from pathlib import Path\n",
    "from art import text2art\n",
    "from collections import namedtuple\n",
    "from subprocess import Popen, PIPE\n",
    "\n",
    "\n",
    "if os.name == \"nt\":\n",
    "    git_exe = r\"C:\\Program Files\\Git\\cmd\\git.exe\"\n",
    "else:\n",
    "    git_exe = \"/usr/bin/git\"\n",
    "os.environ[\"GIT_PYTHON_GIT_EXECUTABLE\"] = git_exe\n",
    "\n",
    "lr = \"\\n\"\n",
    "python = sys.executable\n",
    "home = Path(os.path.expanduser(\"~\"))\n",
    "blogslicer = Path(home / Path(\"github/blogslicer/blogslicer/core.py\"))\n",
    "if hasattr(__builtins__, \"__IPYTHON__\") or __name__ != \"__main__\":\n",
    "    is_jupyter = True\n",
    "    from IPython.display import display, Markdown, HTML\n",
    "\n",
    "    h1 = lambda text: display(Markdown(f\"# {text}\"))\n",
    "    h2 = lambda text: display(Markdown(f\"## {text}\"))\n",
    "    h3 = lambda text: display(Markdown(f\"### {text}\"))\n",
    "    file = \"sites.csv\"\n",
    "    # apex = \"/mnt/c/Users/mikle/github/MikeAtEleven.com\"\n",
    "    apex = \"\"\n",
    "else:\n",
    "    is_jupyter = False\n",
    "    h1 = lambda text: print(f\"# {text}\")\n",
    "    h2 = lambda text: print(f\"## {text}\")\n",
    "    h3 = lambda text: print(f\"### {text}\")\n",
    "    aparser = argparse.ArgumentParser()\n",
    "    add_arg = aparser.add_argument\n",
    "    add_arg(\"-f\", \"--file\", required=True)\n",
    "    add_arg(\"-x\", \"--apex\", required=False)\n",
    "    args = aparser.parse_args()\n",
    "    file = args.file\n",
    "    apex = args.apex\n",
    "\n",
    "\n",
    "def fig(text, font=\"Standard\"):\n",
    "    if is_jupyter:\n",
    "        display(\n",
    "            HTML(\n",
    "                f'<pre style=\"white-space: pre;\">{text2art(text, font=font).replace(lr, \"<br/>\")}</pre>'\n",
    "            )\n",
    "        )\n",
    "    else:\n",
    "        print(text2art(text, font))\n",
    "\n",
    "\n",
    "fig(\"Making Sites...\")\n",
    "\n",
    "file_obj = Path(file)\n",
    "df = pd.read_csv(file_obj, delimiter=\"|\")\n",
    "df = df.applymap(lambda x: x.strip())\n",
    "df.columns = [x.strip() for x in df.columns]\n",
    "if apex:\n",
    "    apex = Path(apex).name\n",
    "    df = df[df[\"apex\"] == apex]\n",
    "Site = namedtuple(\"Site\", \"path, apex, title, gaid, tagline\")\n",
    "\n",
    "\n",
    "def flush(std):\n",
    "    for line in std:\n",
    "        line = line.strip()\n",
    "        if line:\n",
    "            print(line)\n",
    "            sys.stdout.flush()\n",
    "\n",
    "\n",
    "def git(cwd, args):\n",
    "    cmd = [git_exe] + shlex.split(args)\n",
    "    h2(f\"git cmd: {shlex.join(cmd)}\")\n",
    "    process = Popen(\n",
    "        args=cmd,\n",
    "        cwd=cwd,\n",
    "        stdout=PIPE,\n",
    "        stderr=PIPE,\n",
    "        shell=False,\n",
    "        bufsize=1,\n",
    "        universal_newlines=True,\n",
    "    )\n",
    "    h3(\"git stdout\")\n",
    "    flush(process.stdout)\n",
    "    flush(process.stderr)\n",
    "\n",
    "\n",
    "print(f\"INTERPRETER: {python}\")\n",
    "print(f\"SLICER: {blogslicer}\")\n",
    "\n",
    "for index, series in df.iterrows():\n",
    "    site = Site(**series.to_dict())\n",
    "    fig(site.apex, font=\"Cybermedium\")\n",
    "    here = Path(home / site.path)\n",
    "    [x.unlink() for x in Path(here / \"_posts/\").glob(\"*\")]\n",
    "\n",
    "    cmd = f'{python} {blogslicer} -p {here} -t \"{site.title}\" -s \"blog\" -a \"Mike Levin\"'\n",
    "    print(cmd, end=\"\\n\\n\")\n",
    "    with Popen(args=cmd, cwd=here, stdout=PIPE, stderr=PIPE, shell=True) as pout:\n",
    "        for line in pout.stdout.readlines():\n",
    "            print(line.decode().strip())\n",
    "\n",
    "    git(here, \"add _posts/*\")\n",
    "    git(here, 'commit -am \"Publising Blog Posts\"')\n",
    "    git(here, \"push\")\n",
    "\n",
    "h2(\"Done!\")"
   ]
  },
  {
   "cell_type": "code",
   "execution_count": null,
   "id": "756fdb4a-9133-45fe-a0b2-fc2faaaa8a70",
   "metadata": {},
   "outputs": [
    {
     "name": "stdout",
     "output_type": "stream",
     "text": [
      "Converted 00_core.ipynb.\n",
      "Converted index.ipynb.\n"
     ]
    }
   ],
   "source": [
    "!nbdev_build_lib"
   ]
  },
  {
   "cell_type": "code",
   "execution_count": null,
   "id": "7a7267a7-1ab7-4bca-98a2-46799ab3c710",
   "metadata": {},
   "outputs": [],
   "source": [
    "!nbdev_clean_nbs"
   ]
  },
  {
   "cell_type": "code",
   "execution_count": null,
   "id": "081b5b49-5f14-4efe-8843-8c2e44b09e78",
   "metadata": {},
   "outputs": [],
   "source": []
  }
 ],
 "metadata": {
  "kernelspec": {
   "display_name": "Python 3 (ipykernel)",
   "language": "python",
   "name": "python3"
  }
 },
 "nbformat": 4,
 "nbformat_minor": 5
}
