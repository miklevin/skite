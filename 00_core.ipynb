{
 "cells": [
  {
   "cell_type": "code",
   "execution_count": null,
   "id": "5581a6e4-9b75-48ab-81c2-31d34b539004",
   "metadata": {},
   "outputs": [],
   "source": [
    "# default_exp core\n",
    "%load_ext lab_black"
   ]
  },
  {
   "cell_type": "code",
   "execution_count": null,
   "id": "8bab425a-742a-4289-b8c7-41b6ea6c1496",
   "metadata": {},
   "outputs": [],
   "source": [
    "# hide\n",
    "from nbdev.showdoc import *"
   ]
  },
  {
   "cell_type": "code",
   "execution_count": null,
   "id": "18c7cb71-47c4-4278-afcc-444ff9a035e7",
   "metadata": {},
   "outputs": [
    {
     "data": {
      "text/markdown": [
       "# Generaring sites..."
      ],
      "text/plain": [
       "<IPython.core.display.Markdown object>"
      ]
     },
     "metadata": {},
     "output_type": "display_data"
    },
    {
     "data": {
      "text/markdown": [
       "## Python: C:\\Users\\mikle\\AppData\\Roaming\\jupyterlab-desktop\\jlab_server\\python.exe"
      ],
      "text/plain": [
       "<IPython.core.display.Markdown object>"
      ]
     },
     "metadata": {},
     "output_type": "display_data"
    },
    {
     "data": {
      "text/markdown": [
       "## Blogslicer: C:\\Users\\mikle\\github\\blogslicer\\blogslicer\\core.py"
      ],
      "text/plain": [
       "<IPython.core.display.Markdown object>"
      ]
     },
     "metadata": {},
     "output_type": "display_data"
    },
    {
     "name": "stdout",
     "output_type": "stream",
     "text": [
      "\n"
     ]
    },
    {
     "data": {
      "text/markdown": [
       "### GuerillaTech.com"
      ],
      "text/plain": [
       "<IPython.core.display.Markdown object>"
      ]
     },
     "metadata": {},
     "output_type": "display_data"
    },
    {
     "name": "stdout",
     "output_type": "stream",
     "text": [
      "C:\\Users\\mikle\\AppData\\Roaming\\jupyterlab-desktop\\jlab_server\\python.exe C:\\Users\\mikle\\github\\blogslicer\\blogslicer\\core.py -p C:\\Users\\mikle\\github\\GuerillaTech.com -t \"Guerilla Tech\" -s \"/blog\" -a \"Mike Levin\"\n",
      "\n",
      "## FILE: C:\\Users\\mikle\\github\\GuerillaTech.com/_posts/2022-04-22-post-1.md\n"
     ]
    },
    {
     "data": {
      "text/markdown": [
       "### Levinux.com"
      ],
      "text/plain": [
       "<IPython.core.display.Markdown object>"
      ]
     },
     "metadata": {},
     "output_type": "display_data"
    },
    {
     "name": "stdout",
     "output_type": "stream",
     "text": [
      "C:\\Users\\mikle\\AppData\\Roaming\\jupyterlab-desktop\\jlab_server\\python.exe C:\\Users\\mikle\\github\\blogslicer\\blogslicer\\core.py -p C:\\Users\\mikle\\github\\Levinux.com -t \"Levinux\" -s \"/blog\" -a \"Mike Levin\"\n",
      "\n",
      "## FILE: C:\\Users\\mikle\\github\\Levinux.com/_posts/1970-01-01-post-1.md\n"
     ]
    },
    {
     "data": {
      "text/markdown": [
       "### LinuxPythonvimgit.com"
      ],
      "text/plain": [
       "<IPython.core.display.Markdown object>"
      ]
     },
     "metadata": {},
     "output_type": "display_data"
    },
    {
     "name": "stdout",
     "output_type": "stream",
     "text": [
      "C:\\Users\\mikle\\AppData\\Roaming\\jupyterlab-desktop\\jlab_server\\python.exe C:\\Users\\mikle\\github\\blogslicer\\blogslicer\\core.py -p C:\\Users\\mikle\\github\\LinuxPythonvimgit.com -t \"Linux, Python, vim & git\" -s \"/blog\" -a \"Mike Levin\"\n",
      "\n",
      "## FILE: C:\\Users\\mikle\\github\\LinuxPythonvimgit.com/_posts/2022-05-21-post-6.md\n",
      "## FILE: C:\\Users\\mikle\\github\\LinuxPythonvimgit.com/_posts/2022-05-20-post-5.md\n",
      "## FILE: C:\\Users\\mikle\\github\\LinuxPythonvimgit.com/_posts/2022-05-02-post-4.md\n",
      "## FILE: C:\\Users\\mikle\\github\\LinuxPythonvimgit.com/_posts/2022-05-01-post-3.md\n",
      "## FILE: C:\\Users\\mikle\\github\\LinuxPythonvimgit.com/_posts/2022-04-21-post-2.md\n",
      "## FILE: C:\\Users\\mikle\\github\\LinuxPythonvimgit.com/_posts/2022-04-20-post-1.md\n"
     ]
    },
    {
     "data": {
      "text/markdown": [
       "### LunderVand.com"
      ],
      "text/plain": [
       "<IPython.core.display.Markdown object>"
      ]
     },
     "metadata": {},
     "output_type": "display_data"
    },
    {
     "name": "stdout",
     "output_type": "stream",
     "text": [
      "C:\\Users\\mikle\\AppData\\Roaming\\jupyterlab-desktop\\jlab_server\\python.exe C:\\Users\\mikle\\github\\blogslicer\\blogslicer\\core.py -p C:\\Users\\mikle\\github\\LunderVand.com -t \"LunderVand\" -s \"/blog\" -a \"Mike Levin\"\n",
      "\n",
      "## FILE: C:\\Users\\mikle\\github\\LunderVand.com/_posts/2022-04-22-post-1.md\n"
     ]
    },
    {
     "data": {
      "text/markdown": [
       "### Mike-Levin.com"
      ],
      "text/plain": [
       "<IPython.core.display.Markdown object>"
      ]
     },
     "metadata": {},
     "output_type": "display_data"
    },
    {
     "name": "stdout",
     "output_type": "stream",
     "text": [
      "C:\\Users\\mikle\\AppData\\Roaming\\jupyterlab-desktop\\jlab_server\\python.exe C:\\Users\\mikle\\github\\blogslicer\\blogslicer\\core.py -p C:\\Users\\mikle\\github\\Mike-Levin.com -t \"Mike Levin Dot Com\" -s \"/blog\" -a \"Mike Levin\"\n",
      "\n",
      "## FILE: C:\\Users\\mikle\\github\\Mike-Levin.com/_posts/2022-04-22-post-1.md\n"
     ]
    },
    {
     "data": {
      "text/markdown": [
       "### MikeAtEleven.com"
      ],
      "text/plain": [
       "<IPython.core.display.Markdown object>"
      ]
     },
     "metadata": {},
     "output_type": "display_data"
    },
    {
     "name": "stdout",
     "output_type": "stream",
     "text": [
      "C:\\Users\\mikle\\AppData\\Roaming\\jupyterlab-desktop\\jlab_server\\python.exe C:\\Users\\mikle\\github\\blogslicer\\blogslicer\\core.py -p C:\\Users\\mikle\\github\\MikeAtEleven.com -t \"Mike At Eleven\" -s \"/blog\" -a \"Mike Levin\"\n",
      "\n",
      "## FILE: C:\\Users\\mikle\\github\\MikeAtEleven.com/_posts/2022-06-05-post-23.md\n",
      "## FILE: C:\\Users\\mikle\\github\\MikeAtEleven.com/_posts/2022-05-07-post-22.md\n",
      "## FILE: C:\\Users\\mikle\\github\\MikeAtEleven.com/_posts/2022-05-06-post-21.md\n",
      "## FILE: C:\\Users\\mikle\\github\\MikeAtEleven.com/_posts/2022-05-05-post-20.md\n",
      "## FILE: C:\\Users\\mikle\\github\\MikeAtEleven.com/_posts/2022-05-04-post-19.md\n",
      "## FILE: C:\\Users\\mikle\\github\\MikeAtEleven.com/_posts/2022-05-04-post-18.md\n",
      "## FILE: C:\\Users\\mikle\\github\\MikeAtEleven.com/_posts/2022-05-04-post-17.md\n",
      "## FILE: C:\\Users\\mikle\\github\\MikeAtEleven.com/_posts/2022-05-04-post-16.md\n",
      "## FILE: C:\\Users\\mikle\\github\\MikeAtEleven.com/_posts/2022-05-04-post-15.md\n",
      "## FILE: C:\\Users\\mikle\\github\\MikeAtEleven.com/_posts/2022-05-04-post-14.md\n",
      "## FILE: C:\\Users\\mikle\\github\\MikeAtEleven.com/_posts/2022-05-04-post-13.md\n",
      "## FILE: C:\\Users\\mikle\\github\\MikeAtEleven.com/_posts/2022-05-03-post-12.md\n",
      "## FILE: C:\\Users\\mikle\\github\\MikeAtEleven.com/_posts/2022-05-03-post-11.md\n",
      "## FILE: C:\\Users\\mikle\\github\\MikeAtEleven.com/_posts/2022-05-03-post-10.md\n",
      "## FILE: C:\\Users\\mikle\\github\\MikeAtEleven.com/_posts/2022-05-02-post-9.md\n",
      "## FILE: C:\\Users\\mikle\\github\\MikeAtEleven.com/_posts/2022-04-20-post-8.md\n",
      "## FILE: C:\\Users\\mikle\\github\\MikeAtEleven.com/_posts/2021-09-02-post-7.md\n",
      "## FILE: C:\\Users\\mikle\\github\\MikeAtEleven.com/_posts/2021-08-26-post-6.md\n",
      "## FILE: C:\\Users\\mikle\\github\\MikeAtEleven.com/_posts/2021-08-24-post-5.md\n",
      "## FILE: C:\\Users\\mikle\\github\\MikeAtEleven.com/_posts/2021-08-23-post-4.md\n",
      "## FILE: C:\\Users\\mikle\\github\\MikeAtEleven.com/_posts/2021-08-22-post-3.md\n",
      "## FILE: C:\\Users\\mikle\\github\\MikeAtEleven.com/_posts/2021-08-20-post-2.md\n",
      "## FILE: C:\\Users\\mikle\\github\\MikeAtEleven.com/_posts/2021-08-19-post-1.md\n"
     ]
    },
    {
     "data": {
      "text/markdown": [
       "### MikeLev.in"
      ],
      "text/plain": [
       "<IPython.core.display.Markdown object>"
      ]
     },
     "metadata": {},
     "output_type": "display_data"
    },
    {
     "name": "stdout",
     "output_type": "stream",
     "text": [
      "C:\\Users\\mikle\\AppData\\Roaming\\jupyterlab-desktop\\jlab_server\\python.exe C:\\Users\\mikle\\github\\blogslicer\\blogslicer\\core.py -p C:\\Users\\mikle\\github\\MikeLev.in -t \"Mike Levin\" -s \"/blog\" -a \"Mike Levin\"\n",
      "\n"
     ]
    }
   ],
   "source": [
    "# export\n",
    "\n",
    "import os\n",
    "import sys\n",
    "import argparse\n",
    "import pandas as pd\n",
    "from pathlib import Path\n",
    "from collections import namedtuple\n",
    "from subprocess import Popen, PIPE\n",
    "\n",
    "python = sys.executable\n",
    "home = Path(os.path.expanduser(\"~\"))\n",
    "blogslicer = Path(home / Path(\"github/blogslicer/blogslicer/core.py\"))\n",
    "if hasattr(__builtins__, \"__IPYTHON__\") or __name__ != \"__main__\":\n",
    "    from IPython.display import display, Markdown\n",
    "\n",
    "    h1 = lambda text: display(Markdown(f\"# {text}\"))\n",
    "    h2 = lambda text: display(Markdown(f\"## {text}\"))\n",
    "    h3 = lambda text: display(Markdown(f\"### {text}\"))\n",
    "\n",
    "    file = \"sites.csv\"\n",
    "else:\n",
    "    h1 = lambda text: print(f\"# {text}\")\n",
    "    h2 = lambda text: print(f\"## {text}\")\n",
    "    h3 = lambda text: print(f\"## {text}\")\n",
    "\n",
    "    aparser = argparse.ArgumentParser()\n",
    "    add_arg = aparser.add_argument\n",
    "    add_arg(\"-f\", \"--file\", required=True)\n",
    "    args = aparser.parse_args()\n",
    "    file = args.file\n",
    "\n",
    "h1(\"Generaring sites...\")\n",
    "file_obj = Path(file)\n",
    "df = pd.read_csv(file_obj, delimiter=\"|\")\n",
    "df = df.applymap(lambda x: x.strip())\n",
    "df.columns = [x.strip() for x in df.columns]\n",
    "Site = namedtuple(\"Site\", \"path, apex, title, gaid, tagline\")\n",
    "\n",
    "h2(f\"Python: {python}\")\n",
    "h2(f\"Blogslicer: {blogslicer}\")\n",
    "print()\n",
    "for index, series in df.iterrows():\n",
    "    site = Site(**series.to_dict())\n",
    "    h3(site.apex)\n",
    "    here = Path(home / site.path)\n",
    "    cmd = f'{python} {blogslicer} -p {here} -t \"{site.title}\" -s \"/blog/\" -a \"Mike Levin\"'\n",
    "    print(cmd)\n",
    "    print()\n",
    "    with Popen(args=cmd, cwd=here, stdout=PIPE, stderr=PIPE, shell=True) as pout:\n",
    "        err = pout.stderr.read()\n",
    "        if len(err) > 0:\n",
    "            h3(err)\n",
    "            break\n",
    "        for line in pout.stdout.readlines():\n",
    "            print(line.decode().strip())\n",
    "print('Done')"
   ]
  },
  {
   "cell_type": "code",
   "execution_count": null,
   "id": "e0af2470-df22-42fc-8d87-e61927e2e98f",
   "metadata": {},
   "outputs": [
    {
     "name": "stdout",
     "output_type": "stream",
     "text": [
      "Converted 00_core.ipynb.\n",
      "Converted index.ipynb.\n"
     ]
    }
   ],
   "source": [
    "!nbdev_clean_nbs\n",
    "!nbdev_build_lib"
   ]
  },
  {
   "cell_type": "code",
   "execution_count": null,
   "id": "11e6c873-547e-4c21-9466-29d2330c0496",
   "metadata": {},
   "outputs": [],
   "source": []
  }
 ],
 "metadata": {
  "kernelspec": {
   "display_name": "Python 3 (ipykernel)",
   "language": "python",
   "name": "python3"
  }
 },
 "nbformat": 4,
 "nbformat_minor": 5
}
